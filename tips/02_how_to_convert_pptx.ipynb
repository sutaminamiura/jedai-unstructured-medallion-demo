{
 "cells": [
  {
   "cell_type": "markdown",
   "metadata": {
    "application/vnd.databricks.v1+cell": {
     "cellMetadata": {},
     "inputWidgets": {},
     "nuid": "c8821fa5-9fd4-4a36-9604-11947b71f440",
     "showTitle": false,
     "tableResultSettingsMap": {},
     "title": ""
    }
   },
   "source": [
    "# PPTXファイルの各スライドをPNGで出力するサンプル"
   ]
  },
  {
   "cell_type": "markdown",
   "metadata": {
    "application/vnd.databricks.v1+cell": {
     "cellMetadata": {},
     "inputWidgets": {},
     "nuid": "d767274d-3f73-4709-a4c5-24c598b25524",
     "showTitle": false,
     "tableResultSettingsMap": {},
     "title": ""
    }
   },
   "source": [
    "---\n",
    "**⚠️ 警告:** Databricks Serverless では実行できず、 Dedicated モードの Classic Cluster で実行する必要があります。\n",
    "---"
   ]
  },
  {
   "cell_type": "markdown",
   "metadata": {
    "application/vnd.databricks.v1+cell": {
     "cellMetadata": {},
     "inputWidgets": {},
     "nuid": "bc65128b-6125-4807-99e9-124eb194c46a",
     "showTitle": false,
     "tableResultSettingsMap": {},
     "title": ""
    }
   },
   "source": [
    "## 事前準備\n",
    "\n",
    "\n",
    "- `/contents/00_setup` のノートブックを実行して、 PowerPoint のファイルを Volume に配置してください。"
   ]
  },
  {
   "cell_type": "markdown",
   "metadata": {
    "application/vnd.databricks.v1+cell": {
     "cellMetadata": {},
     "inputWidgets": {},
     "nuid": "7e17e41c-6f93-4f07-9788-f8df4417c6ea",
     "showTitle": false,
     "tableResultSettingsMap": {},
     "title": ""
    }
   },
   "source": [
    "## 必要なライブラリのインストール\n",
    "\n",
    "- libreoffice: pptxを開くために必要\n",
    "- python3-uno: libreofficeをPythonで操作(unoconvで利用)\n",
    "- unoconv: pptx→pdf\n",
    "- fonts-xx: 日本語文字認識\n",
    "- poppler-utils: pdf2imageで使用する"
   ]
  },
  {
   "cell_type": "code",
   "execution_count": 0,
   "metadata": {
    "application/vnd.databricks.v1+cell": {
     "cellMetadata": {
      "byteLimit": 2048000,
      "rowLimit": 10000
     },
     "inputWidgets": {},
     "nuid": "095696be-ac67-490c-98a5-bab616977da4",
     "showTitle": false,
     "tableResultSettingsMap": {},
     "title": ""
    }
   },
   "outputs": [],
   "source": [
    "%sh\n",
    "sudo apt update -y >/dev/null 2>&1\n",
    "sudo apt install libreoffice python3-uno unoconv fonts-noto-cjk fonts-ipafont fonts-ipaexfont poppler-utils -y  >/dev/null 2>&1"
   ]
  },
  {
   "cell_type": "code",
   "execution_count": 0,
   "metadata": {
    "application/vnd.databricks.v1+cell": {
     "cellMetadata": {
      "byteLimit": 2048000,
      "rowLimit": 10000
     },
     "inputWidgets": {},
     "nuid": "3c6411cb-050b-4315-b89b-49f07978bc60",
     "showTitle": false,
     "tableResultSettingsMap": {},
     "title": ""
    }
   },
   "outputs": [],
   "source": [
    "%pip install pdf2image -q\n",
    "dbutils.library.restartPython()"
   ]
  },
  {
   "cell_type": "markdown",
   "metadata": {
    "application/vnd.databricks.v1+cell": {
     "cellMetadata": {},
     "inputWidgets": {},
     "nuid": "5a570b1d-6fc4-4524-b8f7-4a5b6a9b681a",
     "showTitle": false,
     "tableResultSettingsMap": {},
     "title": ""
    }
   },
   "source": [
    "## 共通設定の読み取りとライブラリのインポート"
   ]
  },
  {
   "cell_type": "code",
   "execution_count": 0,
   "metadata": {
    "application/vnd.databricks.v1+cell": {
     "cellMetadata": {
      "byteLimit": 2048000,
      "rowLimit": 10000
     },
     "inputWidgets": {},
     "nuid": "2e163449-c95f-4546-b920-9c7c0553ec57",
     "showTitle": false,
     "tableResultSettingsMap": {},
     "title": ""
    }
   },
   "outputs": [],
   "source": [
    "%run ../contents/00_config"
   ]
  },
  {
   "cell_type": "markdown",
   "metadata": {
    "application/vnd.databricks.v1+cell": {
     "cellMetadata": {},
     "inputWidgets": {},
     "nuid": "07bd4e06-19f0-4036-b687-2b5b846b9255",
     "showTitle": false,
     "tableResultSettingsMap": {},
     "title": ""
    }
   },
   "source": [
    "## ファイルの確認"
   ]
  },
  {
   "cell_type": "code",
   "execution_count": 0,
   "metadata": {
    "application/vnd.databricks.v1+cell": {
     "cellMetadata": {
      "byteLimit": 2048000,
      "rowLimit": 10000
     },
     "inputWidgets": {},
     "nuid": "1fb329d1-91dc-4fe1-a539-02ea00c8b22f",
     "showTitle": false,
     "tableResultSettingsMap": {},
     "title": ""
    }
   },
   "outputs": [],
   "source": [
    "# Volume に書かれたことを確認\n",
    "print(\"-- databricks_overview_by_ai.pptx\")\n",
    "pptx_path = source_dir + \"/landing/raw_files\"\n",
    "pptx_path += \"/audit__ingest_timestamp=2025-10-14T10:07:33Z\"\n",
    "pptx_path += \"/drive/root:/test/files/databricks_overview_by_ai.pptx\"\n",
    "display(dbutils.fs.ls(pptx_path))"
   ]
  },
  {
   "cell_type": "code",
   "execution_count": 0,
   "metadata": {
    "application/vnd.databricks.v1+cell": {
     "cellMetadata": {
      "byteLimit": 2048000,
      "rowLimit": 10000
     },
     "inputWidgets": {},
     "nuid": "539a9944-ad97-497e-a93d-a1a8e485192a",
     "showTitle": false,
     "tableResultSettingsMap": {},
     "title": ""
    }
   },
   "outputs": [],
   "source": [
    "pdf_output_dir = source_dir + \"/tips/02/pdf\"\n",
    "pdf_output_path = pdf_output_dir + \"/databricks_overview_by_ai.pdf\"\n",
    "png_output_dir = source_dir + \"/tips/02/png\""
   ]
  },
  {
   "cell_type": "code",
   "execution_count": 0,
   "metadata": {
    "application/vnd.databricks.v1+cell": {
     "cellMetadata": {
      "byteLimit": 2048000,
      "rowLimit": 10000
     },
     "inputWidgets": {},
     "nuid": "5e6aba55-dc87-415b-a5f2-78e379c03a43",
     "showTitle": false,
     "tableResultSettingsMap": {},
     "title": ""
    }
   },
   "outputs": [],
   "source": [
    "dbutils.fs.mkdirs(pdf_output_dir)\n",
    "dbutils.fs.ls(pdf_output_dir)"
   ]
  },
  {
   "cell_type": "code",
   "execution_count": 0,
   "metadata": {
    "application/vnd.databricks.v1+cell": {
     "cellMetadata": {
      "byteLimit": 2048000,
      "rowLimit": 10000
     },
     "inputWidgets": {},
     "nuid": "249ddc35-23b1-4917-916d-a8b6df44024d",
     "showTitle": false,
     "tableResultSettingsMap": {},
     "title": ""
    }
   },
   "outputs": [],
   "source": [
    "dbutils.fs.mkdirs(png_output_dir)\n",
    "dbutils.fs.ls(png_output_dir)"
   ]
  },
  {
   "cell_type": "markdown",
   "metadata": {
    "application/vnd.databricks.v1+cell": {
     "cellMetadata": {},
     "inputWidgets": {},
     "nuid": "2e4ca63a-fa73-4394-8a8a-9b6a0468154c",
     "showTitle": false,
     "tableResultSettingsMap": {},
     "title": ""
    }
   },
   "source": [
    "## PPTX→PDF"
   ]
  },
  {
   "cell_type": "code",
   "execution_count": 0,
   "metadata": {
    "application/vnd.databricks.v1+cell": {
     "cellMetadata": {
      "byteLimit": 2048000,
      "rowLimit": 10000
     },
     "inputWidgets": {},
     "nuid": "41cdc33a-63aa-4783-b8bf-d518b9ab4e6b",
     "showTitle": false,
     "tableResultSettingsMap": {},
     "title": ""
    }
   },
   "outputs": [],
   "source": [
    "workdir = \"/tmp/unoconv_work\"\n",
    "tmp_outdir = \"/tmp/unoconv_out\""
   ]
  },
  {
   "cell_type": "code",
   "execution_count": 0,
   "metadata": {
    "application/vnd.databricks.v1+cell": {
     "cellMetadata": {
      "byteLimit": 2048000,
      "rowLimit": 10000
     },
     "inputWidgets": {},
     "nuid": "894db330-5f7e-49c2-9df7-c1b1ae699577",
     "showTitle": false,
     "tableResultSettingsMap": {},
     "title": ""
    }
   },
   "outputs": [],
   "source": [
    "import os, shutil, subprocess, pathlib, shlex\n",
    "\n",
    "# 作業ディレクトリを作成\n",
    "pathlib.Path(workdir).mkdir(parents=True, exist_ok=True)\n",
    "pathlib.Path(tmp_outdir).mkdir(parents=True, exist_ok=True)\n",
    "\n",
    "# ローカルにコピー（DBFS直参照を避ける）\n",
    "local_pptx = os.path.join(workdir, os.path.basename(pptx_path))\n",
    "shutil.copy2(pptx_path, local_pptx)"
   ]
  },
  {
   "cell_type": "code",
   "execution_count": 0,
   "metadata": {
    "application/vnd.databricks.v1+cell": {
     "cellMetadata": {
      "byteLimit": 2048000,
      "rowLimit": 10000
     },
     "inputWidgets": {},
     "nuid": "ca7168fd-ea54-45e5-8094-7483e5ce8c3b",
     "showTitle": false,
     "tableResultSettingsMap": {},
     "title": ""
    }
   },
   "outputs": [],
   "source": [
    "import os, shutil, subprocess, pathlib, shlex\n",
    "\n",
    "# 入出力の設定\n",
    "src_pptx = pptx_path\n",
    "workdir = \"/tmp/unoconv_work\"\n",
    "outdir = \"/tmp/unoconv_out\"\n",
    "outfilepath = \"/tmp/unoconv_out/databricks_overview_by_ai.pdf\"\n",
    "\n",
    "pathlib.Path(workdir).mkdir(parents=True, exist_ok=True)\n",
    "pathlib.Path(outdir).mkdir(parents=True, exist_ok=True)"
   ]
  },
  {
   "cell_type": "code",
   "execution_count": 0,
   "metadata": {
    "application/vnd.databricks.v1+cell": {
     "cellMetadata": {
      "byteLimit": 2048000,
      "rowLimit": 10000
     },
     "inputWidgets": {},
     "nuid": "8b54d9f0-082e-4503-988d-d83e91bd5322",
     "showTitle": false,
     "tableResultSettingsMap": {},
     "title": ""
    }
   },
   "outputs": [],
   "source": [
    "# ローカルにコピー（DBFS直参照を避ける）\n",
    "local_pptx = os.path.join(workdir, os.path.basename(src_pptx))\n",
    "shutil.copy2(src_pptx, local_pptx)\n",
    "\n",
    "# ファイルを変換\n",
    "res = subprocess.run(\n",
    "    [\"unoconv\", \"-v\", \"-f\", \"pdf\", \"-o\", outfilepath, local_pptx],\n",
    "    cwd=workdir,\n",
    "    text=True,\n",
    "    capture_output=True,\n",
    ")\n",
    "print(\"RC:\", res.returncode)\n",
    "print(\"--- STDOUT ---\\n\", res.stdout[:2000])\n",
    "print(\"--- STDERR ---\\n\", res.stderr[:2000])\n",
    "\n",
    "print(\"OUTDIR LIST:\", os.listdir(outdir))"
   ]
  },
  {
   "cell_type": "code",
   "execution_count": 0,
   "metadata": {
    "application/vnd.databricks.v1+cell": {
     "cellMetadata": {
      "byteLimit": 2048000,
      "rowLimit": 10000
     },
     "inputWidgets": {},
     "nuid": "457b9c86-72f0-4d6b-a18c-3a5c695c32aa",
     "showTitle": false,
     "tableResultSettingsMap": {},
     "title": ""
    }
   },
   "outputs": [],
   "source": [
    "# できたPDFを元の場所に戻す（必要なら）\n",
    "for f in os.listdir(outdir):\n",
    "    if f.lower().endswith(\"databricks_overview_by_ai.pdf\"):\n",
    "        dbutils.fs.cp(\n",
    "            \"file:\" + os.path.join(outdir, f),\n",
    "            os.path.join(pdf_output_dir, f),\n",
    "        )"
   ]
  },
  {
   "cell_type": "code",
   "execution_count": 0,
   "metadata": {
    "application/vnd.databricks.v1+cell": {
     "cellMetadata": {
      "byteLimit": 2048000,
      "rowLimit": 10000
     },
     "inputWidgets": {},
     "nuid": "3d920ea3-3d85-4e79-ba07-ddc5b5a2bf55",
     "showTitle": false,
     "tableResultSettingsMap": {},
     "title": ""
    }
   },
   "outputs": [],
   "source": [
    "display(dbutils.fs.ls(pdf_output_dir))"
   ]
  },
  {
   "cell_type": "markdown",
   "metadata": {
    "application/vnd.databricks.v1+cell": {
     "cellMetadata": {},
     "inputWidgets": {},
     "nuid": "bc605fd8-e92e-42a8-9720-f7fd3137a623",
     "showTitle": false,
     "tableResultSettingsMap": {},
     "title": ""
    }
   },
   "source": [
    "## PDF→Images"
   ]
  },
  {
   "cell_type": "code",
   "execution_count": 0,
   "metadata": {
    "application/vnd.databricks.v1+cell": {
     "cellMetadata": {
      "byteLimit": 2048000,
      "rowLimit": 10000
     },
     "inputWidgets": {},
     "nuid": "04699bf0-2ee4-4dcd-8bb6-195bc240a98a",
     "showTitle": false,
     "tableResultSettingsMap": {},
     "title": ""
    }
   },
   "outputs": [],
   "source": [
    "from pdf2image import convert_from_path\n",
    "\n",
    "pages = convert_from_path(pdf_output_path)\n",
    "for i, page in enumerate(pages):\n",
    "    page.save(f\"{png_output_dir}/slide_{i+1}.png\", \"PNG\")"
   ]
  },
  {
   "cell_type": "code",
   "execution_count": 0,
   "metadata": {
    "application/vnd.databricks.v1+cell": {
     "cellMetadata": {
      "byteLimit": 2048000,
      "rowLimit": 10000
     },
     "inputWidgets": {},
     "nuid": "95bb884a-0561-4745-9989-f4b9fff233be",
     "showTitle": false,
     "tableResultSettingsMap": {},
     "title": ""
    }
   },
   "outputs": [],
   "source": [
    "display(dbutils.fs.ls(png_output_dir))"
   ]
  },
  {
   "cell_type": "markdown",
   "metadata": {
    "application/vnd.databricks.v1+cell": {
     "cellMetadata": {},
     "inputWidgets": {},
     "nuid": "c461c50e-a39a-41eb-8eb4-8940f4bedd36",
     "showTitle": false,
     "tableResultSettingsMap": {},
     "title": ""
    }
   },
   "source": [
    "## <参考>画像から AI 関数による情報を取得"
   ]
  },
  {
   "cell_type": "code",
   "execution_count": 0,
   "metadata": {
    "application/vnd.databricks.v1+cell": {
     "cellMetadata": {},
     "inputWidgets": {},
     "nuid": "eabca72e-247d-4945-8d53-bcb9eb387ec6",
     "showTitle": false,
     "tableResultSettingsMap": {},
     "title": ""
    }
   },
   "outputs": [],
   "source": [
    "sourc_image_path = source_dir\n",
    "sourc_image_path += \"/curated/curated_files\"\n",
    "sourc_image_path += \"/746dfa1510e04c260652d56807aded43280608ed4d318351c7e9562ea4184f80\"\n",
    "sourc_image_path += \"/png/slide_37.png\""
   ]
  },
  {
   "cell_type": "code",
   "execution_count": 0,
   "metadata": {
    "application/vnd.databricks.v1+cell": {
     "cellMetadata": {},
     "inputWidgets": {},
     "nuid": "9244d1ce-cec6-4460-89dd-2626680359b7",
     "showTitle": false,
     "tableResultSettingsMap": {},
     "title": ""
    }
   },
   "outputs": [],
   "source": [
    "# 画像を表示\n",
    "import re\n",
    "from PIL import Image\n",
    "\n",
    "print(\"--\",sourc_image_path)\n",
    "im = Image.open(sourc_image_path)\n",
    "display(im)"
   ]
  },
  {
   "cell_type": "code",
   "execution_count": 0,
   "metadata": {
    "application/vnd.databricks.v1+cell": {
     "cellMetadata": {},
     "inputWidgets": {},
     "nuid": "0aba78b4-2036-4f03-a2ed-a27c92c643df",
     "showTitle": false,
     "tableResultSettingsMap": {},
     "title": ""
    }
   },
   "outputs": [],
   "source": [
    "from pyspark.sql import functions as F\n",
    "\n",
    "df = spark.read.format(\"binaryFile\").load(sourc_image_path)\n",
    "df = df.withColumn(\n",
    "    \"ai_query_output\",\n",
    "    F.expr(\"\"\"\n",
    "    ai_query(\n",
    "        \"databricks-llama-4-maverick\",\n",
    "        \"これは何ですか？日本語で教えて\",\n",
    "        files => content\n",
    "    )\n",
    "    \"\"\"),\n",
    ")\n",
    "df = df.select(\"ai_query_output\")\n",
    "display(df)\n",
    "\n",
    "print(f\"-- \", sourc_image_path)\n",
    "print(df.collect()[0][\"ai_query_output\"])"
   ]
  },
  {
   "cell_type": "code",
   "execution_count": 0,
   "metadata": {
    "application/vnd.databricks.v1+cell": {
     "cellMetadata": {
      "byteLimit": 2048000,
      "rowLimit": 10000
     },
     "inputWidgets": {},
     "nuid": "da81a44b-9ae9-4113-838d-759e669e6981",
     "showTitle": false,
     "tableResultSettingsMap": {},
     "title": ""
    }
   },
   "outputs": [],
   "source": [
    "# end"
   ]
  }
 ],
 "metadata": {
  "application/vnd.databricks.v1+notebook": {
   "computePreferences": {
    "hardware": {
     "accelerator": null,
     "gpuPoolId": null,
     "memory": null
    }
   },
   "dashboards": [],
   "environmentMetadata": {
    "base_environment": "",
    "environment_version": "4"
   },
   "inputWidgetPreferences": null,
   "language": "python",
   "notebookMetadata": {
    "mostRecentlyExecutedCommandWithImplicitDF": {
     "commandId": 6989098449703494,
     "dataframes": [
      "_sqldf"
     ]
    },
    "pythonIndentUnit": 4
   },
   "notebookName": "02_how_to_convert_pptx",
   "widgets": {}
  },
  "language_info": {
   "name": "python"
  }
 },
 "nbformat": 4,
 "nbformat_minor": 0
}
