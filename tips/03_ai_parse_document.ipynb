{
 "cells": [
  {
   "cell_type": "markdown",
   "metadata": {
    "application/vnd.databricks.v1+cell": {
     "cellMetadata": {},
     "inputWidgets": {},
     "nuid": "c3e4e3fd-b0b4-436b-9e25-bf5a3cec5e1e",
     "showTitle": false,
     "tableResultSettingsMap": {},
     "title": ""
    }
   },
   "source": [
    "# AI_PARSE_DOCUMENT検証"
   ]
  },
  {
   "cell_type": "markdown",
   "metadata": {
    "application/vnd.databricks.v1+cell": {
     "cellMetadata": {},
     "inputWidgets": {},
     "nuid": "fbc38957-e953-4b04-a287-29c3ae2c1e1c",
     "showTitle": false,
     "tableResultSettingsMap": {},
     "title": ""
    }
   },
   "source": [
    "## 対象がPDFかPPTXで読み込み精度が変わる？\n",
    "\n",
    "2025年10月初旬ごろに試した際には PPTX のファイルでは文字化けしていたが、 2025年10月18日に実行したところ日本語で想定通りに表示されため精度が近くなった可能性あり。"
   ]
  },
  {
   "cell_type": "markdown",
   "metadata": {
    "application/vnd.databricks.v1+cell": {
     "cellMetadata": {},
     "inputWidgets": {},
     "nuid": "52e9286e-a5b1-4287-8e67-9a4af04ed896",
     "showTitle": false,
     "tableResultSettingsMap": {},
     "title": ""
    }
   },
   "source": [
    "## 事前準備\n",
    "\n",
    "\n",
    "- `/contents/00_setup` のノートブックを実行して、 PowerPoint と PDF のファイルを Volume に配置してください。"
   ]
  },
  {
   "cell_type": "markdown",
   "metadata": {
    "application/vnd.databricks.v1+cell": {
     "cellMetadata": {},
     "inputWidgets": {},
     "nuid": "98994003-2258-4039-bc64-17e529e2921e",
     "showTitle": false,
     "tableResultSettingsMap": {},
     "title": ""
    }
   },
   "source": [
    "## 共通設定の読み取りとライブラリのインポート"
   ]
  },
  {
   "cell_type": "code",
   "execution_count": 0,
   "metadata": {
    "application/vnd.databricks.v1+cell": {
     "cellMetadata": {
      "byteLimit": 2048000,
      "rowLimit": 10000
     },
     "inputWidgets": {},
     "nuid": "e9872837-843b-41c2-bf35-c118a81b70fb",
     "showTitle": false,
     "tableResultSettingsMap": {},
     "title": ""
    }
   },
   "outputs": [],
   "source": [
    "%run ../contents/00_config"
   ]
  },
  {
   "cell_type": "markdown",
   "metadata": {
    "application/vnd.databricks.v1+cell": {
     "cellMetadata": {},
     "inputWidgets": {},
     "nuid": "7e45e53d-fde7-4dbc-acb4-264ff3ae3a81",
     "showTitle": false,
     "tableResultSettingsMap": {},
     "title": ""
    }
   },
   "source": [
    "## ファイルの確認"
   ]
  },
  {
   "cell_type": "code",
   "execution_count": 0,
   "metadata": {
    "application/vnd.databricks.v1+cell": {
     "cellMetadata": {
      "byteLimit": 2048000,
      "rowLimit": 10000
     },
     "inputWidgets": {},
     "nuid": "b04596b5-8524-4c2a-b1f6-a386ea225b03",
     "showTitle": false,
     "tableResultSettingsMap": {},
     "title": ""
    }
   },
   "outputs": [],
   "source": [
    "# Volume に書かれたことを確認\n",
    "print(\"-- databricks_overview_by_ai.pptx\")\n",
    "src_dir = source_dir + \"/tips/03\"\n",
    "display(dbutils.fs.ls(src_dir))"
   ]
  },
  {
   "cell_type": "code",
   "execution_count": 0,
   "metadata": {
    "application/vnd.databricks.v1+cell": {
     "cellMetadata": {
      "byteLimit": 2048000,
      "rowLimit": 10000
     },
     "inputWidgets": {},
     "nuid": "a84b2d84-1513-47ca-8bf7-f2fd013435d5",
     "showTitle": false,
     "tableResultSettingsMap": {},
     "title": ""
    }
   },
   "outputs": [],
   "source": [
    "pptx_path = src_dir + \"/databricks_overview_by_ai__3pages.pdf\"\n",
    "pdf_path = src_dir + \"/databricks_overview_by_ai__3pages.pdf\""
   ]
  },
  {
   "cell_type": "markdown",
   "metadata": {
    "application/vnd.databricks.v1+cell": {
     "cellMetadata": {},
     "inputWidgets": {},
     "nuid": "ef598d80-4832-459c-bdf3-ce0a8a2c8aff",
     "showTitle": false,
     "tableResultSettingsMap": {},
     "title": ""
    }
   },
   "source": [
    "### PDFの場合"
   ]
  },
  {
   "cell_type": "code",
   "execution_count": 0,
   "metadata": {
    "application/vnd.databricks.v1+cell": {
     "cellMetadata": {
      "byteLimit": 2048000,
      "rowLimit": 10000
     },
     "inputWidgets": {},
     "nuid": "2b616b6b-c5f7-48bf-8d8b-54447b5344dd",
     "showTitle": false,
     "tableResultSettingsMap": {},
     "title": ""
    }
   },
   "outputs": [],
   "source": [
    "pdf_df = spark.sql(\n",
    "    f\"\"\"\n",
    "    WITH PARSE_FROM_PDF AS(\n",
    "    SELECT\n",
    "        ai_parse_document(\n",
    "        content,\n",
    "        map('version', '2.0')\n",
    "        ) AS parsed\n",
    "    FROM \n",
    "        READ_FILES('{pdf_path}', format => 'binaryFile')\n",
    "    )\n",
    "    SELECT parsed:document:elements FROM PARSE_FROM_PDF;\n",
    "    \"\"\"\n",
    ")\n",
    "pdf_df.display()"
   ]
  },
  {
   "cell_type": "markdown",
   "metadata": {
    "application/vnd.databricks.v1+cell": {
     "cellMetadata": {},
     "inputWidgets": {},
     "nuid": "2aab8a27-b89c-4261-b2b5-52091ef6ea44",
     "showTitle": false,
     "tableResultSettingsMap": {},
     "title": ""
    }
   },
   "source": [
    "### PPTXの場合"
   ]
  },
  {
   "cell_type": "code",
   "execution_count": 0,
   "metadata": {
    "application/vnd.databricks.v1+cell": {
     "cellMetadata": {
      "byteLimit": 2048000,
      "rowLimit": 10000
     },
     "inputWidgets": {},
     "nuid": "1637b50e-360d-430b-83cc-a67ab3ad6e16",
     "showTitle": false,
     "tableResultSettingsMap": {},
     "title": ""
    }
   },
   "outputs": [],
   "source": [
    "pptx_df = spark.sql(\n",
    "    f\"\"\"\n",
    "    WITH PARSE_FROM_PDF AS(\n",
    "    SELECT\n",
    "        ai_parse_document(\n",
    "        content,\n",
    "        map('version', '2.0')\n",
    "        ) AS parsed\n",
    "    FROM \n",
    "        READ_FILES('{pptx_path}', format => 'binaryFile')\n",
    "    )\n",
    "    SELECT parsed:document:elements FROM PARSE_FROM_PDF;\n",
    "    \"\"\"\n",
    ")\n",
    "pptx_df.display()"
   ]
  },
  {
   "cell_type": "code",
   "execution_count": 0,
   "metadata": {
    "application/vnd.databricks.v1+cell": {
     "cellMetadata": {},
     "inputWidgets": {},
     "nuid": "c21e5cf2-d28d-4461-82b4-47e69f38d36d",
     "showTitle": false,
     "tableResultSettingsMap": {},
     "title": ""
    }
   },
   "outputs": [],
   "source": [
    "# end"
   ]
  }
 ],
 "metadata": {
  "application/vnd.databricks.v1+notebook": {
   "computePreferences": null,
   "dashboards": [],
   "environmentMetadata": {
    "base_environment": "",
    "environment_version": "4"
   },
   "inputWidgetPreferences": null,
   "language": "python",
   "notebookMetadata": {
    "mostRecentlyExecutedCommandWithImplicitDF": {
     "commandId": 4666348174646921,
     "dataframes": [
      "_sqldf"
     ]
    },
    "pythonIndentUnit": 4
   },
   "notebookName": "03_ai_parse_document",
   "widgets": {}
  },
  "language_info": {
   "name": "python"
  }
 },
 "nbformat": 4,
 "nbformat_minor": 0
}
