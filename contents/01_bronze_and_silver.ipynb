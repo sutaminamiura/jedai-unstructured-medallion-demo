{
 "cells": [
  {
   "cell_type": "markdown",
   "metadata": {
    "application/vnd.databricks.v1+cell": {
     "cellMetadata": {},
     "inputWidgets": {},
     "nuid": "aa6a7e8c-4de2-41af-b7b7-d1362a74547f",
     "showTitle": false,
     "tableResultSettingsMap": {},
     "title": ""
    }
   },
   "source": [
    "# Bronze と Siver の処理"
   ]
  },
  {
   "cell_type": "markdown",
   "metadata": {
    "application/vnd.databricks.v1+cell": {
     "cellMetadata": {},
     "inputWidgets": {},
     "nuid": "63573e9a-cf55-4aae-91d0-b82c81ecc230",
     "showTitle": false,
     "tableResultSettingsMap": {},
     "title": ""
    }
   },
   "source": [
    "## 利用するライブラリをインストール"
   ]
  },
  {
   "cell_type": "code",
   "execution_count": 0,
   "metadata": {
    "application/vnd.databricks.v1+cell": {
     "cellMetadata": {
      "byteLimit": 2048000,
      "rowLimit": 10000
     },
     "inputWidgets": {},
     "nuid": "a901160b-e07a-464d-a50e-e449e08385b8",
     "showTitle": false,
     "tableResultSettingsMap": {},
     "title": ""
    }
   },
   "outputs": [],
   "source": [
    "%pip install python-pptx lxml -q"
   ]
  },
  {
   "cell_type": "code",
   "execution_count": 0,
   "metadata": {
    "application/vnd.databricks.v1+cell": {
     "cellMetadata": {
      "byteLimit": 2048000,
      "rowLimit": 10000
     },
     "inputWidgets": {},
     "nuid": "020518aa-9c77-4ebb-85d9-129505929a6b",
     "showTitle": false,
     "tableResultSettingsMap": {},
     "title": ""
    }
   },
   "outputs": [],
   "source": [
    "%pip install \"markitdown[pdf, docx, pptx]\" -q"
   ]
  },
  {
   "cell_type": "code",
   "execution_count": 0,
   "metadata": {
    "application/vnd.databricks.v1+cell": {
     "cellMetadata": {
      "byteLimit": 2048000,
      "rowLimit": 10000
     },
     "inputWidgets": {},
     "nuid": "5b48e46d-ea9a-4b50-9fe6-e2ff32f61567",
     "showTitle": false,
     "tableResultSettingsMap": {},
     "title": ""
    }
   },
   "outputs": [],
   "source": [
    "dbutils.library.restartPython()"
   ]
  },
  {
   "cell_type": "markdown",
   "metadata": {
    "application/vnd.databricks.v1+cell": {
     "cellMetadata": {},
     "inputWidgets": {},
     "nuid": "06faaa4f-76fd-488c-9ec7-e4c38cd24da0",
     "showTitle": false,
     "tableResultSettingsMap": {},
     "title": ""
    }
   },
   "source": [
    "## 共通設定の読み取りとライブラリのインポート"
   ]
  },
  {
   "cell_type": "code",
   "execution_count": 0,
   "metadata": {
    "application/vnd.databricks.v1+cell": {
     "cellMetadata": {
      "byteLimit": 2048000,
      "rowLimit": 10000
     },
     "inputWidgets": {},
     "nuid": "504bf82e-e49c-47d6-9b91-87f696f06e7c",
     "showTitle": false,
     "tableResultSettingsMap": {},
     "title": ""
    }
   },
   "outputs": [],
   "source": [
    "%run ./00_config"
   ]
  },
  {
   "cell_type": "code",
   "execution_count": 0,
   "metadata": {
    "application/vnd.databricks.v1+cell": {
     "cellMetadata": {
      "byteLimit": 2048000,
      "rowLimit": 10000
     },
     "inputWidgets": {},
     "nuid": "4ff9d393-639f-4bdc-9dfc-47d2ec551a5d",
     "showTitle": false,
     "tableResultSettingsMap": {},
     "title": ""
    }
   },
   "outputs": [],
   "source": [
    "from pyspark.sql import functions as F"
   ]
  },
  {
   "cell_type": "code",
   "execution_count": 0,
   "metadata": {
    "application/vnd.databricks.v1+cell": {
     "cellMetadata": {
      "byteLimit": 2048000,
      "rowLimit": 10000
     },
     "inputWidgets": {},
     "nuid": "d5942895-8dc8-4204-bc96-0de89f447f26",
     "showTitle": false,
     "tableResultSettingsMap": {},
     "title": ""
    }
   },
   "outputs": [],
   "source": [
    "## Bronze (File Context) の処理"
   ]
  },
  {
   "cell_type": "code",
   "execution_count": 0,
   "metadata": {
    "application/vnd.databricks.v1+cell": {
     "cellMetadata": {
      "byteLimit": 2048000,
      "rowLimit": 10000
     },
     "inputWidgets": {},
     "nuid": "0a859ed5-94a4-40a5-8263-412cf807670d",
     "showTitle": false,
     "tableResultSettingsMap": {},
     "title": ""
    }
   },
   "outputs": [],
   "source": [
    "landing_dir = source_dir + \"/landing/file_context\""
   ]
  },
  {
   "cell_type": "code",
   "execution_count": 0,
   "metadata": {
    "application/vnd.databricks.v1+cell": {
     "cellMetadata": {
      "byteLimit": 2048000,
      "rowLimit": 10000
     },
     "inputWidgets": {},
     "nuid": "f5b65145-c767-483f-94f5-d016bdb130d5",
     "showTitle": false,
     "tableResultSettingsMap": {},
     "title": ""
    }
   },
   "outputs": [],
   "source": [
    "# 参照する json ファイルを表示\n",
    "print(\"-- medalion_site.metadata.json\")\n",
    "metadata_file_path = source_dir + \"/landing/file_context\"\n",
    "metadata_file_path += \"/audit__ingest_timestamp=2025-10-14T10:07:33Z\"\n",
    "metadata_file_path += \"/medalion_site.metadata.json\"\n",
    "print(dbutils.fs.head(metadata_file_path))"
   ]
  },
  {
   "cell_type": "code",
   "execution_count": 0,
   "metadata": {
    "application/vnd.databricks.v1+cell": {
     "cellMetadata": {
      "byteLimit": 2048000,
      "rowLimit": 10000
     },
     "inputWidgets": {},
     "nuid": "47fc01cf-cbbe-4e5f-843d-189c8c333b83",
     "showTitle": false,
     "tableResultSettingsMap": {
      "0": {
       "dataGridStateBlob": "{\"version\":1,\"tableState\":{\"columnPinning\":{\"left\":[\"#row_number#\"],\"right\":[]},\"columnSizing\":{\"file_dir\":156},\"columnVisibility\":{}},\"settings\":{\"columns\":{\"file_url\":{\"format\":{\"preset\":\"string-preset-url\"}}}},\"syncTimestamp\":1760767660371}",
       "filterBlob": null,
       "queryPlanFiltersBlob": null,
       "tableResultIndex": 0
      }
     },
     "title": ""
    }
   },
   "outputs": [],
   "source": [
    "# File Context の json ファイルを単一列として読み込む\n",
    "df = spark.read.format(\"text\").option(\"wholetext\", True).load(landing_dir)\n",
    "\n",
    "# Value 列を variant 型に変換\n",
    "varinat__value_col = \"varinat__value\"\n",
    "df = df.withColumn(varinat__value_col, F.expr(\"try_parse_json(value)\"))\n",
    "\n",
    "# ファイルに関する情報を展開\n",
    "file_context_cols_01 = {\n",
    "    \"raw_file_path\": F.expr(\"try_variant_get(varinat__value, '$.file_dir', 'string')\"),\n",
    "    \"file_sensitivity_label\": F.expr(\n",
    "        \"try_variant_get(varinat__value, '$.sensitivity_label', 'string')\"\n",
    "    ),\n",
    "}\n",
    "df = df.withColumns(file_context_cols_01)\n",
    "\n",
    "#\n",
    "df = df.withColumn(\n",
    "    varinat__value_col,\n",
    "    F.explode(F.variant_get(F.col(\"varinat__value\"), \"$.value\", \"array<string>\")),\n",
    ")\n",
    "df = df.withColumn(varinat__value_col, F.expr(f\"try_parse_json({varinat__value_col})\"))\n",
    "\n",
    "\n",
    "# ファイルに関する情報を展開\n",
    "file_context_cols_02 = {\n",
    "    \"file_id\": F.concat(\n",
    "        F.lit(\"/driveId/\"),\n",
    "        F.expr(\n",
    "            \"try_variant_get(varinat__value, '$.parentReference.driveId', 'string')\"\n",
    "        ),\n",
    "        F.lit(\"/id/\"),\n",
    "        F.expr(\"try_variant_get(varinat__value, '$.id', 'string')\"),\n",
    "    ),\n",
    "    \"file_version\": F.expr(\n",
    "        \"try_variant_get(varinat__value, '$.lastModifiedDateTime', 'string')\"\n",
    "    ),\n",
    "    \"file_dir\": F.expr(\n",
    "        \"try_variant_get(varinat__value, '$.parentReference.path', 'string')\"\n",
    "    ),\n",
    "    \"file_name\": F.expr(\"try_variant_get(varinat__value, '$.name', 'string')\"),\n",
    "    \"file_url\": F.expr(\"try_variant_get(varinat__value, '$.webUrl', 'string')\"),\n",
    "    \"file_extension\": F.regexp_extract(\n",
    "        F.expr(\"try_variant_get(varinat__value, '$.name', 'string')\"), r\"\\.([^.]+)$\", 1\n",
    "    ),\n",
    "    \"file_mime_type\": F.expr(\n",
    "        \"try_variant_get(varinat__value, '$.file.mimeType', 'string')\"\n",
    "    ),\n",
    "    \"size_in_bytes\": F.expr(\"try_variant_get(varinat__value, '$.size', 'string')\").cast(\n",
    "        \"bigint\"\n",
    "    ),\n",
    "    \"raw_file_path\": F.concat(\n",
    "        F.col(\"raw_file_path\"),\n",
    "        F.expr(\"try_variant_get(varinat__value, '$.parentReference.path', 'string')\"),\n",
    "        F.lit(\"/\"),\n",
    "        F.expr(\"try_variant_get(varinat__value, '$.name', 'string')\"),\n",
    "    ),\n",
    "    \"raw_file_path_by_service\": F.struct(\n",
    "        F.concat(\n",
    "            F.expr(\n",
    "                f\"\"\"\n",
    "                regexp_replace(\n",
    "                    raw_file_path,\n",
    "                    '^abfss://[^/]+/sharepoint',\n",
    "                    '/Volumes/{catalog_name}/{schema_name}/{volume_name}/source_data'\n",
    "                )\n",
    "                \"\"\"\n",
    "            ),\n",
    "            F.expr(\n",
    "                \"try_variant_get(varinat__value, '$.parentReference.path', 'string')\"\n",
    "            ),\n",
    "            F.lit(\"/\"),\n",
    "            F.expr(\"try_variant_get(varinat__value, '$.name', 'string')\"),\n",
    "        ).alias(\"databricks_volumes_file_path\")\n",
    "    ),\n",
    "    \"file_created_timestamp\": F.expr(\n",
    "        \"try_variant_get(varinat__value, '$.createdDateTime', 'timestamp')\"\n",
    "    ),\n",
    "    \"file_update_timestamp\": F.expr(\n",
    "        \"try_variant_get(varinat__value, '$.lastModifiedDateTime', 'timestamp')\"\n",
    "    ),\n",
    "}\n",
    "df = df.withColumns(file_context_cols_02)\n",
    "\n",
    "# 監査列を付与\n",
    "audit_cols = {\n",
    "    \"audit__ingest_timestamp\": F.try_to_timestamp(\"audit__ingest_timestamp\"),\n",
    "    \"audit__update_timestamp\": F.expr(\"current_timestamp()\"),\n",
    "    # value が json フォーマットでない場合には delete_flg を 1 とする\n",
    "    \"audit__delete_flg\": F.when(\n",
    "        F.col(\"varinat__value\").isNotNull(), F.lit(0)\n",
    "    ).otherwise(F.lit(1)),\n",
    "    # deleted.state の値が NULL の場合には 0 する\n",
    "    \"audit__source_delete_flg\": F.when(\n",
    "        F.expr(\"try_variant_get(varinat__value, '$.deleted.state', 'string')\").isNull(),\n",
    "        F.lit(0),\n",
    "    ).otherwise(F.lit(1)),\n",
    "}\n",
    "df = df.withColumns(audit_cols)\n",
    "\n",
    "# Variant に変換したカラムを削除\n",
    "df = df.drop(varinat__value_col)\n",
    "\n",
    "df.display()"
   ]
  },
  {
   "cell_type": "code",
   "execution_count": 0,
   "metadata": {
    "application/vnd.databricks.v1+cell": {
     "cellMetadata": {
      "byteLimit": 2048000,
      "rowLimit": 10000
     },
     "inputWidgets": {},
     "nuid": "def119c2-5336-4c3e-b82f-879c89848114",
     "showTitle": false,
     "tableResultSettingsMap": {},
     "title": ""
    }
   },
   "outputs": [],
   "source": [
    "df.write.mode(\"overwrite\").saveAsTable(\n",
    "    f\"{catalog_name}.{schema_name}.{file_context_input_table_name}\"\n",
    ")"
   ]
  },
  {
   "cell_type": "code",
   "execution_count": 0,
   "metadata": {
    "application/vnd.databricks.v1+cell": {
     "cellMetadata": {
      "byteLimit": 2048000,
      "rowLimit": 10000
     },
     "inputWidgets": {},
     "nuid": "10a1d1b2-be75-4bf7-8fc9-b3cb6adb8285",
     "showTitle": false,
     "tableResultSettingsMap": {
      "0": {
       "dataGridStateBlob": "{\"version\":1,\"tableState\":{\"columnPinning\":{\"left\":[\"#row_number#\"],\"right\":[]},\"columnSizing\":{\"raw_file_path_by_service\":489},\"columnVisibility\":{}},\"settings\":{\"columns\":{\"file_url\":{\"format\":{\"preset\":\"string-preset-url\"}}}},\"syncTimestamp\":1760766644933}",
       "filterBlob": null,
       "queryPlanFiltersBlob": null,
       "tableResultIndex": 0
      }
     },
     "title": ""
    }
   },
   "outputs": [],
   "source": [
    "file_context_df = spark.table(\n",
    "    f\"{catalog_name}.{schema_name}.{file_context_input_table_name}\"\n",
    ")\n",
    "file_context_df.display()"
   ]
  },
  {
   "cell_type": "markdown",
   "metadata": {
    "application/vnd.databricks.v1+cell": {
     "cellMetadata": {},
     "inputWidgets": {},
     "nuid": "9f0d6b4c-0666-4abf-a650-cd5314a5d626",
     "showTitle": false,
     "tableResultSettingsMap": {},
     "title": ""
    }
   },
   "source": [
    "## Bronze (File Info) の処理"
   ]
  },
  {
   "cell_type": "code",
   "execution_count": 0,
   "metadata": {
    "application/vnd.databricks.v1+cell": {
     "cellMetadata": {
      "byteLimit": 2048000,
      "rowLimit": 10000
     },
     "inputWidgets": {},
     "nuid": "0efb9eff-2ece-4a8e-88d4-bc5bdfcd8e33",
     "showTitle": false,
     "tableResultSettingsMap": {
      "0": {
       "dataGridStateBlob": "{\"version\":1,\"tableState\":{\"columnPinning\":{\"left\":[\"#row_number#\"],\"right\":[]},\"columnSizing\":{},\"columnVisibility\":{}},\"settings\":{\"columns\":{}},\"syncTimestamp\":1760696474530}",
       "filterBlob": null,
       "queryPlanFiltersBlob": null,
       "tableResultIndex": 0
      }
     },
     "title": ""
    }
   },
   "outputs": [],
   "source": [
    "df = file_context_df.where(\"audit__source_delete_flg = 0\")\n",
    "df = df.select(\n",
    "    \"_metadata.row_id\",\n",
    "    F.col(\"raw_file_path_by_service.databricks_volumes_file_path\").alias(\n",
    "        \"raw_file_path\"\n",
    "    ),\n",
    ")\n",
    "df.display()"
   ]
  },
  {
   "cell_type": "code",
   "execution_count": 0,
   "metadata": {
    "application/vnd.databricks.v1+cell": {
     "cellMetadata": {
      "byteLimit": 2048000,
      "rowLimit": 10000
     },
     "inputWidgets": {},
     "nuid": "77209c65-f28b-402c-9562-21bc0887a5ff",
     "showTitle": false,
     "tableResultSettingsMap": {},
     "title": ""
    }
   },
   "outputs": [],
   "source": [
    "from pptx import Presentation\n",
    "import re\n",
    "from markitdown import MarkItDown\n",
    "\n",
    "\n",
    "def can_open_with_python_pptx(local_path: str) -> bool:\n",
    "    try:\n",
    "        _ = Presentation(local_path)\n",
    "        return True\n",
    "    except Exception:\n",
    "        return False\n",
    "\n",
    "\n",
    "def get_pptx_slice_contents(file_path):\n",
    "    markitdown = MarkItDown()\n",
    "    res = markitdown.convert(file_path)\n",
    "    text = res.text_content\n",
    "    slides = re.split(r\"<!--\\s*Slide number:\\s*(\\d+)\\s*-->\", text)\n",
    "    result = []\n",
    "    for i in range(1, len(slides), 2):\n",
    "        slide_number = int(slides[i])\n",
    "        slide_content = slides[i + 1].strip()\n",
    "        result.append((slide_number, slide_content))\n",
    "    return result"
   ]
  },
  {
   "cell_type": "code",
   "execution_count": 0,
   "metadata": {
    "application/vnd.databricks.v1+cell": {
     "cellMetadata": {
      "byteLimit": 2048000,
      "rowLimit": 10000
     },
     "inputWidgets": {},
     "nuid": "c878dfd4-073c-4375-9aba-1e4c20b54df1",
     "showTitle": false,
     "tableResultSettingsMap": {},
     "title": ""
    }
   },
   "outputs": [],
   "source": [
    "raw_file_data = df.collect()\n",
    "\n",
    "output_raw_file_data = []\n",
    "for raw_d in raw_file_data:\n",
    "    row_id = raw_d[\"row_id\"]\n",
    "    raw_file_path = raw_d[\"raw_file_path\"]\n",
    "    file_corrupt_check = can_open_with_python_pptx(raw_file_path)\n",
    "    page_contents = get_pptx_slice_contents(raw_file_path)\n",
    "\n",
    "    output_result = {\n",
    "        \"row_id\": row_id,\n",
    "        \"raw_file_path\": raw_file_path,\n",
    "        \"file_check\": {\n",
    "            \"file_corrupt\": file_corrupt_check,\n",
    "        },\n",
    "        \"file_md_content\": page_contents,\n",
    "    }\n",
    "\n",
    "    any_false = any(v is False for v in output_result[\"file_check\"].values())\n",
    "    output_result[\"audit__delete_flg\"] = 1 if any_false else 0\n",
    "    output_raw_file_data.append(output_result)\n",
    "\n",
    "print(output_raw_file_data)"
   ]
  },
  {
   "cell_type": "code",
   "execution_count": 0,
   "metadata": {
    "application/vnd.databricks.v1+cell": {
     "cellMetadata": {
      "byteLimit": 2048000,
      "rowLimit": 10000
     },
     "inputWidgets": {},
     "nuid": "bf083906-9b4a-451c-a98c-34a974b901a1",
     "showTitle": false,
     "tableResultSettingsMap": {},
     "title": ""
    }
   },
   "outputs": [],
   "source": [
    "file_info_schema = \"\"\"\n",
    "row_id LONG,\n",
    "raw_file_path STRING,\n",
    "file_check STRUCT<\n",
    "    file_corrupt BOOLEAN\n",
    ">,\n",
    "file_md_content ARRAY<STRUCT<\n",
    "    slide_number INT,\n",
    "    slide_content STRING\n",
    ">>,\n",
    "audit__delete_flg INT\n",
    "\"\"\"\n",
    "\n",
    "file_info_df = spark.createDataFrame(output_raw_file_data, file_info_schema)\n",
    "\n",
    "file_info_df = file_info_df.withColumn(\"audit__update_timestamp\", F.current_timestamp())\n",
    "\n",
    "file_info_df.write.mode(\"overwrite\").saveAsTable(\n",
    "    f\"{catalog_name}.{schema_name}.{file_info_table_name}\"\n",
    ")"
   ]
  },
  {
   "cell_type": "code",
   "execution_count": 0,
   "metadata": {
    "application/vnd.databricks.v1+cell": {
     "cellMetadata": {
      "byteLimit": 2048000,
      "rowLimit": 10000
     },
     "inputWidgets": {},
     "nuid": "312d1f2d-56ae-467b-b1a0-204dbc469eed",
     "showTitle": false,
     "tableResultSettingsMap": {},
     "title": ""
    }
   },
   "outputs": [],
   "source": [
    "file_info_df = spark.table(f\"{catalog_name}.{schema_name}.{file_info_table_name}\")\n",
    "file_info_df.display()"
   ]
  },
  {
   "cell_type": "markdown",
   "metadata": {
    "application/vnd.databricks.v1+cell": {
     "cellMetadata": {},
     "inputWidgets": {},
     "nuid": "c84eefa4-02fc-4cc3-83f9-c3e6c6ed36a7",
     "showTitle": false,
     "tableResultSettingsMap": {},
     "title": ""
    }
   },
   "source": [
    "## Bronze (File Context Output と File Context Error) の処理"
   ]
  },
  {
   "cell_type": "code",
   "execution_count": 0,
   "metadata": {
    "application/vnd.databricks.v1+cell": {
     "cellMetadata": {
      "byteLimit": 2048000,
      "rowLimit": 10000
     },
     "inputWidgets": {},
     "nuid": "8227e00e-2c4c-480f-98be-6273399693f1",
     "showTitle": false,
     "tableResultSettingsMap": {
      "0": {
       "dataGridStateBlob": "{\"version\":1,\"tableState\":{\"columnPinning\":{\"left\":[\"#row_number#\"],\"right\":[]},\"columnSizing\":{\"file_check\":181,\"file_dir\":219},\"columnVisibility\":{}},\"settings\":{\"columns\":{\"file_url\":{\"format\":{\"preset\":\"string-preset-url\"}}}},\"syncTimestamp\":1760702148643}",
       "filterBlob": null,
       "queryPlanFiltersBlob": null,
       "tableResultIndex": 0
      }
     },
     "title": ""
    }
   },
   "outputs": [],
   "source": [
    "file_context_df = spark.table(\n",
    "    f\"{catalog_name}.{schema_name}.{file_context_input_table_name}\"\n",
    ")\n",
    "file_context_df = file_context_df.withColumn(\"row_id\", F.col(\"_metadata.row_id\"))\n",
    "file_context_df.createOrReplaceTempView(\"_file_context\")\n",
    "\n",
    "# file_info の重複を考慮して row_id ごとに最大の更新時刻のレコードのみを連携対象とする\n",
    "file_info_df = spark.table(f\"{catalog_name}.{schema_name}.{file_info_table_name}\")\n",
    "max_file_info_df = file_info_df.groupBy(\"row_id\").agg(\n",
    "    F.max(\"audit__update_timestamp\").alias(\"max_audit__update_timestamp\")\n",
    ")\n",
    "latest_file_info_df = (\n",
    "    file_info_df.alias(\"d\")\n",
    "    .join(\n",
    "        max_file_info_df.alias(\"m\"),\n",
    "        (F.col(\"d.row_id\") == F.col(\"m.row_id\"))\n",
    "        & (\n",
    "            F.col(\"d.audit__update_timestamp\") == F.col(\"m.max_audit__update_timestamp\")\n",
    "        ),\n",
    "        \"inner\",\n",
    "    )\n",
    "    .select(\"d.*\")  # 元のカラムだけ残す\n",
    ")\n",
    "latest_file_info_df = latest_file_info_df.dropDuplicates([\"row_id\"])\n",
    "latest_file_info_df.createOrReplaceTempView(\"_file_info\")\n",
    "\n",
    "file_context_output_sql = f\"\"\"\n",
    "SELECT\n",
    "  fc.* EXCEPT (\n",
    "    fc.row_id,\n",
    "    fc.audit__delete_flg,\n",
    "    fc.audit__update_timestamp\n",
    "  ),\n",
    "  concat(\n",
    "    'abfss://unstureddata@medalion.dfs.core.windows.net/sharepoint/enriched_files/',\n",
    "    nullif(fc.file_sensitivity_label, 'none'),\n",
    "    '/',\n",
    "    sha2(fc.file_id, 256),\n",
    "    '.',\n",
    "    fc.file_extension\n",
    "  ) AS file_path,\n",
    "  if.file_check,\n",
    "  if.file_md_content,\n",
    "  named_struct(\n",
    "    'databricks_volumes_file_path',\n",
    "    concat(\n",
    "      '/Volumes/{catalog_name}/{schema_name}/{volume_name}/enriched_files/',\n",
    "      nullif(fc.file_sensitivity_label, 'none'),\n",
    "      '/',\n",
    "      sha2(fc.file_id, 256),\n",
    "      '.',\n",
    "      fc.file_extension\n",
    "    )\n",
    "  ) AS file_path_by_service,\n",
    "  CASE\n",
    "    WHEN fc.audit__delete_flg = 1 THEN 1\n",
    "    WHEN if.audit__delete_flg = 1 THEN 1\n",
    "    ELSE 0\n",
    "  END AS audit__delete_flg,\n",
    "  current_timestamp() AS audit__update_timestamp\n",
    "  FROM\n",
    "    _file_context fc\n",
    "  LEFT OUTER JOIN _file_info if\n",
    "  ON\n",
    "    fc.row_id = if.row_id\n",
    "\"\"\"\n",
    "file_context_output_src_df = spark.sql(file_context_output_sql)\n",
    "display(file_context_output_src_df)"
   ]
  },
  {
   "cell_type": "code",
   "execution_count": 0,
   "metadata": {
    "application/vnd.databricks.v1+cell": {
     "cellMetadata": {
      "byteLimit": 2048000,
      "rowLimit": 10000
     },
     "inputWidgets": {},
     "nuid": "f1e39b3c-a82c-4788-b319-4dc3f9d75e24",
     "showTitle": false,
     "tableResultSettingsMap": {},
     "title": ""
    }
   },
   "outputs": [],
   "source": [
    "file_context_output_src_df.write.mode(\"append\").saveAsTable(\n",
    "    f\"{catalog_name}.{schema_name}.{file_context_output_table_name}\"\n",
    ")"
   ]
  },
  {
   "cell_type": "code",
   "execution_count": 0,
   "metadata": {
    "application/vnd.databricks.v1+cell": {
     "cellMetadata": {
      "byteLimit": 2048000,
      "rowLimit": 10000
     },
     "inputWidgets": {},
     "nuid": "7ba3a474-d77d-45be-919b-c546830ce49d",
     "showTitle": false,
     "tableResultSettingsMap": {
      "0": {
       "dataGridStateBlob": "{\"version\":1,\"tableState\":{\"columnPinning\":{\"left\":[\"#row_number#\"],\"right\":[]},\"columnSizing\":{},\"columnVisibility\":{}},\"settings\":{\"columns\":{\"file_url\":{\"format\":{\"preset\":\"string-preset-url\"}}}},\"syncTimestamp\":1760706573893}",
       "filterBlob": null,
       "queryPlanFiltersBlob": null,
       "tableResultIndex": 0
      }
     },
     "title": ""
    }
   },
   "outputs": [],
   "source": [
    "file_context_output_df = spark.table(\n",
    "    f\"{catalog_name}.{schema_name}.{file_context_output_table_name}\"\n",
    ")\n",
    "file_context_output_df.display()"
   ]
  },
  {
   "cell_type": "markdown",
   "metadata": {
    "application/vnd.databricks.v1+cell": {
     "cellMetadata": {},
     "inputWidgets": {},
     "nuid": "c4ec0eba-30d1-4141-94d2-b2bad1a20839",
     "showTitle": false,
     "tableResultSettingsMap": {},
     "title": ""
    }
   },
   "source": [
    "## Silver (Enriched Files) の処理"
   ]
  },
  {
   "cell_type": "code",
   "execution_count": 0,
   "metadata": {
    "application/vnd.databricks.v1+cell": {
     "cellMetadata": {
      "byteLimit": 2048000,
      "rowLimit": 10000
     },
     "inputWidgets": {},
     "nuid": "a10e9e8e-f78e-421d-b7a3-732d0ef047b6",
     "showTitle": false,
     "tableResultSettingsMap": {
      "0": {
       "dataGridStateBlob": "{\"version\":1,\"tableState\":{\"columnPinning\":{\"left\":[\"#row_number#\"],\"right\":[]},\"columnSizing\":{\"file_id\":264},\"columnVisibility\":{}},\"settings\":{\"columns\":{}},\"syncTimestamp\":1760768938392}",
       "filterBlob": null,
       "queryPlanFiltersBlob": null,
       "tableResultIndex": 0
      }
     },
     "title": ""
    }
   },
   "outputs": [],
   "source": [
    "enriched_files_src_df = file_context_output_df.where(\"audit__source_delete_flg = 0\")\n",
    "enriched_files_src_df = enriched_files_src_df.select(\n",
    "    F.col(\"file_id\"),\n",
    "    F.col(\"raw_file_path_by_service.databricks_volumes_file_path\").alias(\n",
    "        \"src_dbx_volume_path\"\n",
    "    ),\n",
    "    F.col(\"file_path_by_service.databricks_volumes_file_path\").alias(\n",
    "        \"tgt_dbx_volume_path\"\n",
    "    ),\n",
    ")\n",
    "enriched_files_src_df = enriched_files_src_df.dropDuplicates([\"file_id\"])\n",
    "src_files = enriched_files_src_df.collect()\n",
    "\n",
    "enriched_files_src_df.display()"
   ]
  },
  {
   "cell_type": "code",
   "execution_count": 0,
   "metadata": {
    "application/vnd.databricks.v1+cell": {
     "cellMetadata": {
      "byteLimit": 2048000,
      "rowLimit": 10000
     },
     "inputWidgets": {},
     "nuid": "53281e70-3918-4551-8506-6491ae44bcfd",
     "showTitle": false,
     "tableResultSettingsMap": {},
     "title": ""
    }
   },
   "outputs": [],
   "source": [
    "import shutil\n",
    "from pathlib import Path\n",
    "import shutil\n",
    "\n",
    "for row in src_files:\n",
    "    src_path = row[\"src_dbx_volume_path\"]\n",
    "    tgt_path = row[\"tgt_dbx_volume_path\"]\n",
    "    dst = Path(tgt_path)\n",
    "    dst.parent.mkdir(parents=True, exist_ok=True)\n",
    "    shutil.copyfile(src_path, tgt_path)"
   ]
  },
  {
   "cell_type": "code",
   "execution_count": 0,
   "metadata": {
    "application/vnd.databricks.v1+cell": {
     "cellMetadata": {
      "byteLimit": 2048000,
      "rowLimit": 10000
     },
     "inputWidgets": {},
     "nuid": "def06ea5-6fe4-4cb5-84f2-e29118dcf092",
     "showTitle": false,
     "tableResultSettingsMap": {},
     "title": ""
    }
   },
   "outputs": [],
   "source": [
    "# ファイルが書きこまれたことを確認\n",
    "display(dbutils.fs.ls(tgt_path))"
   ]
  },
  {
   "cell_type": "markdown",
   "metadata": {
    "application/vnd.databricks.v1+cell": {
     "cellMetadata": {},
     "inputWidgets": {},
     "nuid": "588aa237-6dbb-4301-9152-5f26616d68f1",
     "showTitle": false,
     "tableResultSettingsMap": {},
     "title": ""
    }
   },
   "source": [
    "## Sivler (Enriched) の処理"
   ]
  },
  {
   "cell_type": "code",
   "execution_count": 0,
   "metadata": {
    "application/vnd.databricks.v1+cell": {
     "cellMetadata": {
      "byteLimit": 2048000,
      "rowLimit": 10000
     },
     "inputWidgets": {},
     "nuid": "2795841d-ce06-4ffa-b235-2703a694e55c",
     "showTitle": false,
     "tableResultSettingsMap": {},
     "title": ""
    }
   },
   "outputs": [],
   "source": [
    "src_enriched_df = file_context_output_df.withColumn(\n",
    "    \"audit__update_timestamp\", F.current_timestamp()\n",
    ")\n",
    "src_enriched_df = src_enriched_df.dropDuplicates([\"file_id\"])\n",
    "src_enriched_df.createOrReplaceTempView(\"_enriched_src\")\n",
    "\n",
    "src_enriched_df.display()"
   ]
  },
  {
   "cell_type": "code",
   "execution_count": 0,
   "metadata": {
    "application/vnd.databricks.v1+cell": {
     "cellMetadata": {
      "byteLimit": 2048000,
      "rowLimit": 10000
     },
     "inputWidgets": {},
     "nuid": "f0ea4fba-c341-4462-8305-2604ba02fcbe",
     "showTitle": false,
     "tableResultSettingsMap": {},
     "title": ""
    }
   },
   "outputs": [],
   "source": [
    "# Merge処理を実行\n",
    "res_df = spark.sql(\n",
    "    f\"\"\"\n",
    "MERGE INTO {catalog_name}.{schema_name}.{enriched_table_name} AS tgt\n",
    "USING _enriched_src AS src\n",
    "ON tgt.file_id = src.file_id\n",
    "  \n",
    "WHEN MATCHED\n",
    "  THEN UPDATE SET *\n",
    "\n",
    "WHEN NOT MATCHED\n",
    "  -- audit__ingest_timestamp を string にしてしまったので、テーブル修正後になおそう \n",
    "  -- AND tgt.audit__ingest_timestamp < src.audit__ingest_timestamp\n",
    "  THEN INSERT *\n",
    "\"\"\"\n",
    ")\n",
    "res_df.display()"
   ]
  },
  {
   "cell_type": "code",
   "execution_count": 0,
   "metadata": {
    "application/vnd.databricks.v1+cell": {
     "cellMetadata": {
      "byteLimit": 2048000,
      "rowLimit": 10000
     },
     "inputWidgets": {},
     "nuid": "1d5cbe22-471c-438f-ad04-2341144b8737",
     "showTitle": false,
     "tableResultSettingsMap": {
      "0": {
       "dataGridStateBlob": "{\"version\":1,\"tableState\":{\"columnPinning\":{\"left\":[\"#row_number#\"],\"right\":[]},\"columnSizing\":{\"file_check\":279},\"columnVisibility\":{}},\"settings\":{\"columns\":{\"file_url\":{\"format\":{\"preset\":\"string-preset-url\"}}}},\"syncTimestamp\":1760769030521}",
       "filterBlob": null,
       "queryPlanFiltersBlob": null,
       "tableResultIndex": 0
      }
     },
     "title": ""
    }
   },
   "outputs": [],
   "source": [
    "enriched_table_df = spark.table(f\"{catalog_name}.{schema_name}.{enriched_table_name}\")\n",
    "enriched_table_df.display()"
   ]
  },
  {
   "cell_type": "code",
   "execution_count": 0,
   "metadata": {
    "application/vnd.databricks.v1+cell": {
     "cellMetadata": {
      "byteLimit": 2048000,
      "rowLimit": 10000
     },
     "inputWidgets": {},
     "nuid": "2889d637-b372-4a6b-8878-c68c6c75bb6c",
     "showTitle": false,
     "tableResultSettingsMap": {},
     "title": ""
    }
   },
   "outputs": [],
   "source": [
    "# end"
   ]
  }
 ],
 "metadata": {
  "application/vnd.databricks.v1+notebook": {
   "computePreferences": {
    "hardware": {
     "accelerator": null,
     "gpuPoolId": null,
     "memory": null
    }
   },
   "dashboards": [],
   "environmentMetadata": {
    "base_environment": "",
    "environment_version": "4"
   },
   "inputWidgetPreferences": null,
   "language": "python",
   "notebookMetadata": {
    "mostRecentlyExecutedCommandWithImplicitDF": {
     "commandId": 7980274447086417,
     "dataframes": [
      "_sqldf"
     ]
    },
    "pythonIndentUnit": 2
   },
   "notebookName": "01_bronze_and_silver",
   "widgets": {}
  },
  "language_info": {
   "name": "python"
  }
 },
 "nbformat": 4,
 "nbformat_minor": 0
}
