{
 "cells": [
  {
   "cell_type": "markdown",
   "metadata": {
    "application/vnd.databricks.v1+cell": {
     "cellMetadata": {
      "byteLimit": 2048000,
      "rowLimit": 10000
     },
     "inputWidgets": {},
     "nuid": "8f1dea45-ba41-468e-8faa-baa300ba5496",
     "showTitle": false,
     "tableResultSettingsMap": {},
     "title": ""
    }
   },
   "source": [
    "# Gold の処理"
   ]
  },
  {
   "cell_type": "markdown",
   "metadata": {
    "application/vnd.databricks.v1+cell": {
     "cellMetadata": {
      "byteLimit": 2048000,
      "rowLimit": 10000
     },
     "inputWidgets": {},
     "nuid": "72d8d8bc-20eb-4ce3-87c1-25b272b3a531",
     "showTitle": false,
     "tableResultSettingsMap": {},
     "title": ""
    }
   },
   "source": [
    "## 共通設定の読み取りとライブラリのインポート"
   ]
  },
  {
   "cell_type": "code",
   "execution_count": 0,
   "metadata": {
    "application/vnd.databricks.v1+cell": {
     "cellMetadata": {
      "byteLimit": 2048000,
      "rowLimit": 10000
     },
     "inputWidgets": {},
     "nuid": "ebdd3df3-5cad-4081-80c0-e7990c761d88",
     "showTitle": false,
     "tableResultSettingsMap": {},
     "title": ""
    }
   },
   "outputs": [],
   "source": [
    "%run ./00_config"
   ]
  },
  {
   "cell_type": "code",
   "execution_count": 0,
   "metadata": {
    "application/vnd.databricks.v1+cell": {
     "cellMetadata": {
      "byteLimit": 2048000,
      "rowLimit": 10000
     },
     "inputWidgets": {},
     "nuid": "02f6bf29-01ed-4d5a-8c56-91d11b2ed4b5",
     "showTitle": false,
     "tableResultSettingsMap": {},
     "title": ""
    }
   },
   "outputs": [],
   "source": [
    "from pyspark.sql import functions as F"
   ]
  },
  {
   "cell_type": "markdown",
   "metadata": {
    "application/vnd.databricks.v1+cell": {
     "cellMetadata": {
      "byteLimit": 2048000,
      "rowLimit": 10000
     },
     "inputWidgets": {},
     "nuid": "80fd35ea-b551-458a-bfc2-90a66744e9af",
     "showTitle": false,
     "tableResultSettingsMap": {},
     "title": ""
    }
   },
   "source": [
    "## Gold (Curated Files) の処理\n",
    "\n",
    "`tips/02_how_to_convert_pptx` ノートブックに記述しているように PDF 変換や画像の分割を実施します。一部の処理を Databricks Free Edition で実行できないためスキップします。"
   ]
  },
  {
   "cell_type": "code",
   "execution_count": 0,
   "metadata": {
    "application/vnd.databricks.v1+cell": {
     "cellMetadata": {
      "byteLimit": 2048000,
      "rowLimit": 10000
     },
     "inputWidgets": {},
     "nuid": "5ac5ae18-93be-4b55-9b35-60f28a6bb6e7",
     "showTitle": false,
     "tableResultSettingsMap": {},
     "title": ""
    }
   },
   "outputs": [],
   "source": [
    "# 省略"
   ]
  },
  {
   "cell_type": "code",
   "execution_count": 0,
   "metadata": {
    "application/vnd.databricks.v1+cell": {
     "cellMetadata": {
      "byteLimit": 2048000,
      "rowLimit": 10000
     },
     "inputWidgets": {},
     "nuid": "bf1de89a-07b5-42f9-bdd9-8cd0cee3da53",
     "showTitle": false,
     "tableResultSettingsMap": {},
     "title": ""
    }
   },
   "outputs": [],
   "source": [
    "# 画像を配置した URL をセット\n",
    "image_src_volume_dir = f\"/Volumes/{catalog_name}/{schema_name}/{volume_name}\"\n",
    "image_src_volume_dir += \"/source_data/curated/curated_files\"\n",
    "image_src_volume_dir += (\n",
    "    \"/746dfa1510e04c260652d56807aded43280608ed4d318351c7e9562ea4184f80\"\n",
    ")\n",
    "image_src_volume_dir += \"/png\""
   ]
  },
  {
   "cell_type": "code",
   "execution_count": 0,
   "metadata": {
    "application/vnd.databricks.v1+cell": {
     "cellMetadata": {
      "byteLimit": 2048000,
      "rowLimit": 10000
     },
     "inputWidgets": {},
     "nuid": "09e397c2-152d-4b03-b8a9-28562b322619",
     "showTitle": false,
     "tableResultSettingsMap": {
      "0": {
       "dataGridStateBlob": "{\"version\":1,\"tableState\":{\"columnPinning\":{\"left\":[\"#row_number#\"],\"right\":[]},\"columnSizing\":{\"path\":1101},\"columnVisibility\":{}},\"settings\":{\"columns\":{}},\"syncTimestamp\":1760898301886}",
       "filterBlob": null,
       "queryPlanFiltersBlob": null,
       "tableResultIndex": 0
      }
     },
     "title": ""
    }
   },
   "outputs": [],
   "source": [
    "display(dbutils.fs.ls(image_src_volume_dir))"
   ]
  },
  {
   "cell_type": "markdown",
   "metadata": {
    "application/vnd.databricks.v1+cell": {
     "cellMetadata": {
      "byteLimit": 2048000,
      "rowLimit": 10000
     },
     "inputWidgets": {},
     "nuid": "0cde92df-b4c8-4bf7-979a-0803b68db6d4",
     "showTitle": false,
     "tableResultSettingsMap": {},
     "title": ""
    }
   },
   "source": [
    "## Gold (Curated) の処理"
   ]
  },
  {
   "cell_type": "code",
   "execution_count": 0,
   "metadata": {
    "application/vnd.databricks.v1+cell": {
     "cellMetadata": {
      "byteLimit": 2048000,
      "rowLimit": 10000
     },
     "inputWidgets": {},
     "nuid": "c76d25ac-c893-4297-a5bd-2c68f043b4b2",
     "showTitle": false,
     "tableResultSettingsMap": {},
     "title": ""
    }
   },
   "outputs": [],
   "source": [
    "enriched_table_df = spark.table(f\"{catalog_name}.{schema_name}.{enriched_table_name}\")\n",
    "enriched_table_df.display()"
   ]
  },
  {
   "cell_type": "code",
   "execution_count": 0,
   "metadata": {
    "application/vnd.databricks.v1+cell": {
     "cellMetadata": {
      "byteLimit": 2048000,
      "rowLimit": 10000
     },
     "inputWidgets": {},
     "nuid": "436ec6be-ea2c-4061-9d1c-d75d7bae8baa",
     "showTitle": false,
     "tableResultSettingsMap": {},
     "title": ""
    }
   },
   "outputs": [],
   "source": [
    "src_cols = [\"file_id\", \"file_url\", \"file_md_content\"]"
   ]
  },
  {
   "cell_type": "code",
   "execution_count": 0,
   "metadata": {
    "application/vnd.databricks.v1+cell": {
     "cellMetadata": {
      "byteLimit": 2048000,
      "rowLimit": 10000
     },
     "inputWidgets": {},
     "nuid": "a452b503-62c1-4224-9f8d-ddb9b67957c5",
     "showTitle": false,
     "tableResultSettingsMap": {},
     "title": ""
    }
   },
   "outputs": [],
   "source": [
    "src_curated_table_df_01 = enriched_table_df.where(\"audit__source_delete_flg = 0\")\n",
    "src_curated_table_df_01 = src_curated_table_df_01.select(src_cols)"
   ]
  },
  {
   "cell_type": "code",
   "execution_count": 0,
   "metadata": {
    "application/vnd.databricks.v1+cell": {
     "cellMetadata": {
      "byteLimit": 2048000,
      "rowLimit": 10000
     },
     "inputWidgets": {},
     "nuid": "802dbe09-f2be-40e7-8676-5d050d12cf72",
     "showTitle": false,
     "tableResultSettingsMap": {
      "0": {
       "dataGridStateBlob": "{\"version\":1,\"tableState\":{\"columnPinning\":{\"left\":[\"#row_number#\"],\"right\":[]},\"columnSizing\":{\"image_path\":1134},\"columnVisibility\":{}},\"settings\":{\"columns\":{\"file_url\":{\"format\":{\"preset\":\"string-preset-url\"}}}},\"syncTimestamp\":1760899830364}",
       "filterBlob": null,
       "queryPlanFiltersBlob": null,
       "tableResultIndex": 0
      }
     },
     "title": ""
    }
   },
   "outputs": [],
   "source": [
    "src_curated_table_df_02 = src_curated_table_df_01.withColumn(\n",
    "    \"contents\", F.explode(\"file_md_content\")\n",
    ")\n",
    "file_contents_col_cond = {\n",
    "    \"slide_number\": F.expr(\"contents.slide_number\"),\n",
    "    \"slide_content\": F.expr(\"contents.slide_content\"),\n",
    "}\n",
    "src_curated_table_df_02 = src_curated_table_df_02.withColumns(file_contents_col_cond)\n",
    "src_curated_table_df_02 = src_curated_table_df_02.dropDuplicates(\n",
    "    [\"file_id\", \"slide_number\"]\n",
    ")\n",
    "\n",
    "# 指定したページの PDF を表示する URL に変換\n",
    "page_param_key = \"#p\"  ## Docswell では #p と指定するが、 SharePoint では #page= を指定\n",
    "url_col_conf = {\n",
    "    \"file_url\": F.concat(\n",
    "        F.col(\"file_url\"), F.lit(page_param_key), F.col(\"slide_number\")\n",
    "    )\n",
    "}\n",
    "src_curated_table_df_02 = src_curated_table_df_02.withColumns(url_col_conf)\n",
    "\n",
    "# ページごとの Volume の URL を追加\n",
    "img_path_prefix = \"/slide_\"\n",
    "img_path_suffix = \".png\"\n",
    "img_path_col_conf = {\n",
    "    \"image_path\": F.concat(\n",
    "        F.lit(image_src_volume_dir),\n",
    "        F.lit(img_path_prefix),\n",
    "        F.col(\"slide_number\"),\n",
    "        F.lit(img_path_suffix),\n",
    "    )\n",
    "}\n",
    "src_curated_table_df_02 = src_curated_table_df_02.withColumns(img_path_col_conf)\n",
    "\n",
    "\n",
    "# Databricks の Mosaic AI Vector Search 利用時の単一の PK 値を設定\n",
    "src_curated_table_df_02 = src_curated_table_df_02.withColumn(\n",
    "    \"pk\",\n",
    "    F.sha2(\n",
    "        F.concat_ws(\n",
    "            \"||\",\n",
    "            F.coalesce(F.col(\"file_id\").cast(\"string\"), F.lit(\"\")),\n",
    "            F.coalesce(F.col(\"slide_number\").cast(\"string\"), F.lit(\"\")),\n",
    "        ),\n",
    "        256,\n",
    "    ),\n",
    ")\n",
    "\n",
    "# 表示する上で不要なカラムを削除\n",
    "src_curated_table_df_02 = src_curated_table_df_02.drop(\n",
    "    \"file_md_content\",\n",
    "    \"contents\",\n",
    ")\n",
    "\n",
    "src_curated_table_df_02.display()"
   ]
  },
  {
   "cell_type": "code",
   "execution_count": 0,
   "metadata": {
    "application/vnd.databricks.v1+cell": {
     "cellMetadata": {
      "byteLimit": 2048000,
      "rowLimit": 10000
     },
     "inputWidgets": {},
     "nuid": "7c5f7b0d-d2b0-463e-b731-9dc88cf943dc",
     "showTitle": false,
     "tableResultSettingsMap": {},
     "title": ""
    }
   },
   "outputs": [],
   "source": [
    "# Embedding の実行\n",
    "\n",
    "# <暫定対応>日本語の Embedding モデルを指定すべきであるが英語のものを指定\n",
    "embedding_model = \"databricks-bge-large-en\"\n",
    "\n",
    "# ＜暫定対応＞Databricks Free Edition にてレコード数が多い場合に処理が完了しないため、分割して実行する\n",
    "src_df_01, src_df_02, src_df_03 = src_curated_table_df_02.randomSplit(\n",
    "    [0.4, 0.3, 0.3], seed=42\n",
    ")\n",
    "src_dfs = [src_df_01, src_df_02, src_df_03]\n",
    "for src_d in src_dfs:\n",
    "    src_curated_table_df = src_d.withColumn(\n",
    "        \"embedding\", F.expr(f\"ai_query('{embedding_model}', slide_content)\")\n",
    "    )\n",
    "    src_curated_table_df.write.mode(\"append\").saveAsTable(\n",
    "        f\"{catalog_name}.{schema_name}.{curated_table_name}\"\n",
    "    )"
   ]
  },
  {
   "cell_type": "code",
   "execution_count": 0,
   "metadata": {
    "application/vnd.databricks.v1+cell": {
     "cellMetadata": {
      "byteLimit": 2048000,
      "rowLimit": 10000
     },
     "inputWidgets": {},
     "nuid": "2bd8f24e-e118-4d0a-a6d8-ffe739849d8a",
     "showTitle": false,
     "tableResultSettingsMap": {
      "0": {
       "dataGridStateBlob": "{\"version\":1,\"tableState\":{\"columnPinning\":{\"left\":[\"#row_number#\"],\"right\":[]},\"columnSizing\":{},\"columnVisibility\":{}},\"settings\":{\"columns\":{\"file_url\":{\"format\":{\"preset\":\"string-preset-url\"}}}},\"syncTimestamp\":1760898545234}",
       "filterBlob": null,
       "queryPlanFiltersBlob": null,
       "tableResultIndex": 0
      }
     },
     "title": ""
    }
   },
   "outputs": [],
   "source": [
    "curated_table_df = spark.table(f\"{catalog_name}.{schema_name}.{curated_table_name}\")\n",
    "curated_table_df.display()"
   ]
  },
  {
   "cell_type": "code",
   "execution_count": 0,
   "metadata": {
    "application/vnd.databricks.v1+cell": {
     "cellMetadata": {
      "byteLimit": 2048000,
      "rowLimit": 10000
     },
     "inputWidgets": {},
     "nuid": "01a8ccfb-c00d-4ab7-bf53-83732b3e2ed8",
     "showTitle": false,
     "tableResultSettingsMap": {},
     "title": ""
    }
   },
   "outputs": [],
   "source": [
    "# end"
   ]
  }
 ],
 "metadata": {
  "application/vnd.databricks.v1+notebook": {
   "computePreferences": {
    "hardware": {
     "accelerator": null,
     "gpuPoolId": null,
     "memory": null
    }
   },
   "dashboards": [],
   "environmentMetadata": {
    "base_environment": "",
    "environment_version": "4"
   },
   "inputWidgetPreferences": null,
   "language": "python",
   "notebookMetadata": {
    "mostRecentlyExecutedCommandWithImplicitDF": {
     "commandId": 4666348174646976,
     "dataframes": [
      "_sqldf"
     ]
    },
    "pythonIndentUnit": 4
   },
   "notebookName": "02_gold",
   "widgets": {}
  },
  "language_info": {
   "name": "python"
  }
 },
 "nbformat": 4,
 "nbformat_minor": 0
}
