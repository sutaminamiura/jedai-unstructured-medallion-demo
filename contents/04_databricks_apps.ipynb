{
 "cells": [
  {
   "cell_type": "markdown",
   "metadata": {
    "application/vnd.databricks.v1+cell": {
     "cellMetadata": {},
     "inputWidgets": {},
     "nuid": "3fc2b462-8575-4c03-aa8f-9b67bea9454a",
     "showTitle": false,
     "tableResultSettingsMap": {},
     "title": ""
    }
   },
   "source": [
    "# Databricks Apps の利用"
   ]
  },
  {
   "cell_type": "markdown",
   "metadata": {
    "application/vnd.databricks.v1+cell": {
     "cellMetadata": {},
     "inputWidgets": {},
     "nuid": "4125b9ed-00c0-47f7-af59-3da4389b6d75",
     "showTitle": false,
     "tableResultSettingsMap": {},
     "title": ""
    }
   },
   "source": [
    "## 共通設定の読み取りとライブラリのインポート"
   ]
  },
  {
   "cell_type": "code",
   "execution_count": 0,
   "metadata": {
    "application/vnd.databricks.v1+cell": {
     "cellMetadata": {
      "byteLimit": 2048000,
      "rowLimit": 10000
     },
     "inputWidgets": {},
     "nuid": "2376ccd7-a252-4d1c-a477-806c83bb2448",
     "showTitle": false,
     "tableResultSettingsMap": {},
     "title": ""
    }
   },
   "outputs": [],
   "source": [
    "%run ./00_config"
   ]
  },
  {
   "cell_type": "code",
   "execution_count": 0,
   "metadata": {
    "application/vnd.databricks.v1+cell": {
     "cellMetadata": {
      "byteLimit": 2048000,
      "rowLimit": 10000
     },
     "inputWidgets": {},
     "nuid": "6cacbe5f-c1cb-4ca0-82bf-b9df7609417f",
     "showTitle": false,
     "tableResultSettingsMap": {},
     "title": ""
    }
   },
   "outputs": [],
   "source": [
    "# 設定値の表示\n",
    "print(\"-- Databricks Apps\")\n",
    "print(\"App name:\", app_name)"
   ]
  },
  {
   "cell_type": "markdown",
   "metadata": {
    "application/vnd.databricks.v1+cell": {
     "cellMetadata": {},
     "inputWidgets": {},
     "nuid": "965f4cdf-dfb3-4df8-a142-a50e9176fe29",
     "showTitle": false,
     "tableResultSettingsMap": {},
     "title": ""
    }
   },
   "source": [
    "## Databricks App の作成\n",
    "\n",
    "1. 左の `Compute`タブを選択し、 `Apps` -> `Craete App`を選択\n",
    "2. `Craeate a custom app`を選択\n",
    "3. `App name`に上記結果を入力し、`Next Configure`を選択\n",
    "4. `Create app`を選択し、リソースが作成されることを待機\n",
    "5. `Deploy`を選択し、 クローンしたレポジトリの`/contens/demo_app`ディレクトリを指定して`Deploy`を選択"
   ]
  },
  {
   "cell_type": "markdown",
   "metadata": {
    "application/vnd.databricks.v1+cell": {
     "cellMetadata": {},
     "inputWidgets": {},
     "nuid": "99e3d653-5885-4c0c-ae1c-d3bd039a6847",
     "showTitle": false,
     "tableResultSettingsMap": {},
     "title": ""
    }
   },
   "source": [
    "## Databricks App に対する権限付与\n",
    "\n",
    "1. 下記コードを実行して Databricks Apps に紐づくサービスプリンシパル名を取得\n",
    "2. 左の `Catalog`タブを選択し、作成した Mosai AI Vector Search の Index のテーブル（例`unstructured_data_medalion_demo.schema_01.vectore_endpoint_index`）を表示\n",
    "3. `Permissons`タブにて`Grant`を選択し、下記で表示されたサービスプリンシパルに`SELECT`権限を付与\n",
    "4. 作成した Volume （例：`unstructured_data_medalion_demo.schema_01.volume_01`）を表示\n",
    "5. `Permissons`タブにて`Grant`を選択し、下記で表示されたサービスプリンシパルに`READ VOLUME`権限を付与"
   ]
  },
  {
   "cell_type": "code",
   "execution_count": 0,
   "metadata": {
    "application/vnd.databricks.v1+cell": {
     "cellMetadata": {
      "byteLimit": 2048000,
      "rowLimit": 10000
     },
     "inputWidgets": {},
     "nuid": "1454432a-4a2a-4c4e-8147-3de16d426ef4",
     "showTitle": false,
     "tableResultSettingsMap": {},
     "title": ""
    }
   },
   "outputs": [],
   "source": [
    "from databricks.sdk import WorkspaceClient\n",
    "\n",
    "w = WorkspaceClient()\n",
    "\n",
    "app_name = app_name\n",
    "app = w.apps.get(app_name)\n",
    "\n",
    "print(\"SP name:\", app.service_principal_name)"
   ]
  },
  {
   "cell_type": "markdown",
   "metadata": {
    "application/vnd.databricks.v1+cell": {
     "cellMetadata": {},
     "inputWidgets": {},
     "nuid": "75fb911d-4eca-4956-96f9-5e8341b52da6",
     "showTitle": false,
     "tableResultSettingsMap": {},
     "title": ""
    }
   },
   "source": [
    "## Databricks App の利用\n",
    "\n",
    "1. 下記コードを実行して Databricks Apps の URL を表示\n",
    "2. その URL にアクセスしてチャット UI が表示されることを確認\n",
    "3. `Delta Lake ?`と入力し結果が返ってくることを確認"
   ]
  },
  {
   "cell_type": "code",
   "execution_count": 0,
   "metadata": {
    "application/vnd.databricks.v1+cell": {
     "cellMetadata": {
      "byteLimit": 2048000,
      "rowLimit": 10000
     },
     "inputWidgets": {},
     "nuid": "03a84a15-54c7-4a51-899a-0d447c3e2251",
     "showTitle": false,
     "tableResultSettingsMap": {},
     "title": ""
    }
   },
   "outputs": [],
   "source": [
    "from databricks.sdk import WorkspaceClient\n",
    "\n",
    "w = WorkspaceClient()\n",
    "\n",
    "app_name = app_name\n",
    "app = w.apps.get(app_name)\n",
    "\n",
    "print(\"App URL:\", app.url)"
   ]
  },
  {
   "cell_type": "code",
   "execution_count": 0,
   "metadata": {
    "application/vnd.databricks.v1+cell": {
     "cellMetadata": {},
     "inputWidgets": {},
     "nuid": "1916e912-d83c-4097-a0bb-5f3f03ec08b8",
     "showTitle": false,
     "tableResultSettingsMap": {},
     "title": ""
    }
   },
   "outputs": [],
   "source": [
    "# end"
   ]
  }
 ],
 "metadata": {
  "application/vnd.databricks.v1+notebook": {
   "computePreferences": {
    "hardware": {
     "accelerator": null,
     "gpuPoolId": null,
     "memory": null
    }
   },
   "dashboards": [],
   "environmentMetadata": {
    "base_environment": "",
    "environment_version": "4"
   },
   "inputWidgetPreferences": null,
   "language": "python",
   "notebookMetadata": {
    "pythonIndentUnit": 4
   },
   "notebookName": "04_databricks_apps",
   "widgets": {}
  },
  "language_info": {
   "name": "python"
  }
 },
 "nbformat": 4,
 "nbformat_minor": 0
}
