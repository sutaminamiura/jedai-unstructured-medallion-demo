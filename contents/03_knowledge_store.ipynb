{
 "cells": [
  {
   "cell_type": "markdown",
   "metadata": {
    "application/vnd.databricks.v1+cell": {
     "cellMetadata": {
      "byteLimit": 2048000,
      "rowLimit": 10000
     },
     "inputWidgets": {},
     "nuid": "3c9696f8-1f72-4e0f-9229-0c08b31ce610",
     "showTitle": false,
     "tableResultSettingsMap": {},
     "title": ""
    }
   },
   "source": [
    "# Knowledge Store の処理"
   ]
  },
  {
   "cell_type": "markdown",
   "metadata": {
    "application/vnd.databricks.v1+cell": {
     "cellMetadata": {
      "byteLimit": 2048000,
      "rowLimit": 10000
     },
     "inputWidgets": {},
     "nuid": "c608c22e-d0b1-4810-9c30-1d8b894ca264",
     "showTitle": false,
     "tableResultSettingsMap": {},
     "title": ""
    }
   },
   "source": [
    "## 利用するライブラリをインストール"
   ]
  },
  {
   "cell_type": "code",
   "execution_count": 0,
   "metadata": {
    "application/vnd.databricks.v1+cell": {
     "cellMetadata": {
      "byteLimit": 2048000,
      "rowLimit": 10000
     },
     "inputWidgets": {},
     "nuid": "771e3732-20ba-415f-a667-2db17119e7b5",
     "showTitle": false,
     "tableResultSettingsMap": {},
     "title": ""
    }
   },
   "outputs": [],
   "source": [
    "%pip install databricks-vectorsearch faiss-cpu openai -q\n",
    "dbutils.library.restartPython()"
   ]
  },
  {
   "cell_type": "markdown",
   "metadata": {
    "application/vnd.databricks.v1+cell": {
     "cellMetadata": {
      "byteLimit": 2048000,
      "rowLimit": 10000
     },
     "inputWidgets": {},
     "nuid": "181a61d3-7a24-43a8-9cb7-7346cbc14d69",
     "showTitle": false,
     "tableResultSettingsMap": {},
     "title": ""
    }
   },
   "source": [
    "## 共通設定の読み取りとライブラリのインポート"
   ]
  },
  {
   "cell_type": "code",
   "execution_count": 0,
   "metadata": {
    "application/vnd.databricks.v1+cell": {
     "cellMetadata": {
      "byteLimit": 2048000,
      "rowLimit": 10000
     },
     "inputWidgets": {},
     "nuid": "77843e92-35ae-4890-b76e-ae00ce5886c5",
     "showTitle": false,
     "tableResultSettingsMap": {},
     "title": ""
    }
   },
   "outputs": [],
   "source": [
    "%run ./00_config"
   ]
  },
  {
   "cell_type": "code",
   "execution_count": 0,
   "metadata": {
    "application/vnd.databricks.v1+cell": {
     "cellMetadata": {
      "byteLimit": 2048000,
      "rowLimit": 10000
     },
     "inputWidgets": {},
     "nuid": "2bbfa20e-2882-4bcc-9d6b-d54df6ac180b",
     "showTitle": false,
     "tableResultSettingsMap": {},
     "title": ""
    }
   },
   "outputs": [],
   "source": [
    "from pyspark.sql import functions as F"
   ]
  },
  {
   "cell_type": "markdown",
   "metadata": {
    "application/vnd.databricks.v1+cell": {
     "cellMetadata": {
      "byteLimit": 2048000,
      "rowLimit": 10000
     },
     "inputWidgets": {},
     "nuid": "7482ea30-21d9-4f49-af38-cc4885f0f4fe",
     "showTitle": false,
     "tableResultSettingsMap": {},
     "title": ""
    }
   },
   "source": [
    "## Gold テーブルの確認"
   ]
  },
  {
   "cell_type": "code",
   "execution_count": 0,
   "metadata": {
    "application/vnd.databricks.v1+cell": {
     "cellMetadata": {
      "byteLimit": 2048000,
      "rowLimit": 10000
     },
     "inputWidgets": {},
     "nuid": "85f6d450-f94e-48b4-b8bd-62e13a6870f0",
     "showTitle": false,
     "tableResultSettingsMap": {},
     "title": ""
    }
   },
   "outputs": [],
   "source": [
    "curated_table_df = spark.table(f\"{catalog_name}.{schema_name}.{curated_table_name}\")\n",
    "curated_table_df.display()"
   ]
  },
  {
   "cell_type": "markdown",
   "metadata": {
    "application/vnd.databricks.v1+cell": {
     "cellMetadata": {
      "byteLimit": 2048000,
      "rowLimit": 10000
     },
     "inputWidgets": {},
     "nuid": "c18925ce-c251-49e0-904b-7d2cecb563ac",
     "showTitle": false,
     "tableResultSettingsMap": {},
     "title": ""
    }
   },
   "source": [
    "## Databricks の Mosaic AI Vector Search の構築"
   ]
  },
  {
   "cell_type": "code",
   "execution_count": 0,
   "metadata": {
    "application/vnd.databricks.v1+cell": {
     "cellMetadata": {
      "byteLimit": 2048000,
      "rowLimit": 10000
     },
     "inputWidgets": {},
     "nuid": "25d362e4-efc1-4042-a55f-bed6006ac0b7",
     "showTitle": false,
     "tableResultSettingsMap": {},
     "title": ""
    }
   },
   "outputs": [],
   "source": [
    "from databricks.vector_search.client import VectorSearchClient\n",
    "\n",
    "client = VectorSearchClient()"
   ]
  },
  {
   "cell_type": "code",
   "execution_count": 0,
   "metadata": {
    "application/vnd.databricks.v1+cell": {
     "cellMetadata": {
      "byteLimit": 2048000,
      "rowLimit": 10000
     },
     "inputWidgets": {},
     "nuid": "b7fbfc39-2acd-4aed-8a53-876390a69284",
     "showTitle": false,
     "tableResultSettingsMap": {},
     "title": ""
    }
   },
   "outputs": [],
   "source": [
    "# Mosaic AI Vector Search のエンドポイントを作成。 10分程度かかります。\n",
    "try:\n",
    "    client.get_endpoint(name=vector_search_name)\n",
    "    print(f\"[VS] endpoint '{vector_search_name}' は既存。ONLINE待機…\")\n",
    "    client.wait_for_endpoint(name=vector_search_name)\n",
    "except Exception:\n",
    "    print(f\"[VS] endpoint '{vector_search_name}' が未作成。作成します…\")\n",
    "    client.create_endpoint_and_wait(\n",
    "        name=vector_search_name,\n",
    "        endpoint_type=\"STANDARD\",\n",
    "    )"
   ]
  },
  {
   "cell_type": "code",
   "execution_count": 0,
   "metadata": {
    "application/vnd.databricks.v1+cell": {
     "cellMetadata": {
      "byteLimit": 2048000,
      "rowLimit": 10000
     },
     "inputWidgets": {},
     "nuid": "86feb392-b7c0-4e26-81d4-f1c132c9e09e",
     "showTitle": false,
     "tableResultSettingsMap": {},
     "title": ""
    }
   },
   "outputs": [],
   "source": [
    "# endpoint の確認\n",
    "import pprint\n",
    "\n",
    "cle = client.list_endpoints()\n",
    "fields = [\"id\", \"name\", \"endpoint_type\", \"endpoint_status\"]\n",
    "result = [{k: ep.get(k) for k in fields} for ep in cle.get(\"endpoints\", [])]\n",
    "pprint.pprint(result)"
   ]
  },
  {
   "cell_type": "code",
   "execution_count": 0,
   "metadata": {
    "application/vnd.databricks.v1+cell": {
     "cellMetadata": {
      "byteLimit": 2048000,
      "rowLimit": 10000
     },
     "inputWidgets": {},
     "nuid": "d80cb690-3f27-4711-bae9-27f37812b938",
     "showTitle": false,
     "tableResultSettingsMap": {},
     "title": ""
    }
   },
   "outputs": [],
   "source": [
    "# Curated テーブルのカラム名を指定\n",
    "prmiary_key = \"pk\"\n",
    "embedding_vector_column = \"embedding\"\n",
    "\n",
    "# Index が存在したら削除\n",
    "try:\n",
    "    client.get_index(\n",
    "        endpoint_name=vector_search_name,\n",
    "        index_name=f\"{catalog_name}.{schema_name}.{index_table_name}\",\n",
    "    )\n",
    "    client.delete_index(\n",
    "        endpoint_name=vector_search_name,\n",
    "        index_name=f\"{catalog_name}.{schema_name}.{index_table_name}\",\n",
    "    )\n",
    "except:\n",
    "    pass"
   ]
  },
  {
   "cell_type": "code",
   "execution_count": 0,
   "metadata": {
    "application/vnd.databricks.v1+cell": {
     "cellMetadata": {
      "byteLimit": 2048000,
      "rowLimit": 10000
     },
     "inputWidgets": {},
     "nuid": "2265039b-a57e-4c24-a076-20bdcc3a07b5",
     "showTitle": false,
     "tableResultSettingsMap": {},
     "title": ""
    }
   },
   "outputs": [],
   "source": [
    "# Index の作成\n",
    "index = client.create_delta_sync_index(\n",
    "    endpoint_name=vector_search_name,\n",
    "    source_table_name=f\"{catalog_name}.{schema_name}.{curated_table_name}\",\n",
    "    index_name=f\"{catalog_name}.{schema_name}.{index_table_name}\",\n",
    "    pipeline_type=\"TRIGGERED\",\n",
    "    embedding_dimension=1024,\n",
    "    primary_key=prmiary_key,\n",
    "    embedding_vector_column=embedding_vector_column,\n",
    ")"
   ]
  },
  {
   "cell_type": "code",
   "execution_count": 0,
   "metadata": {
    "application/vnd.databricks.v1+cell": {
     "cellMetadata": {
      "byteLimit": 2048000,
      "rowLimit": 10000
     },
     "inputWidgets": {},
     "nuid": "30db3b9a-c3c8-4552-a717-b4a3df41214c",
     "showTitle": false,
     "tableResultSettingsMap": {},
     "title": ""
    }
   },
   "outputs": [],
   "source": [
    "# Index の確認\n",
    "import pprint\n",
    "\n",
    "\n",
    "cli = client.list_indexes(name=vector_search_name)\n",
    "fields = [\"endpoint_name\", \"name\", \"primary_key\", \"index_type\"]\n",
    "cli_result = [{k: ep.get(k) for k in fields} for ep in cli.get(\"vector_indexes\", [])]\n",
    "pprint.pprint(cli_result)"
   ]
  },
  {
   "cell_type": "code",
   "execution_count": 0,
   "metadata": {
    "application/vnd.databricks.v1+cell": {
     "cellMetadata": {
      "byteLimit": 2048000,
      "rowLimit": 10000
     },
     "inputWidgets": {},
     "nuid": "42b13f61-6209-476c-a087-4c40e0ef834b",
     "showTitle": false,
     "tableResultSettingsMap": {},
     "title": ""
    }
   },
   "outputs": [],
   "source": [
    "# 出力結果が Index creation succeeded. になるまで待機\n",
    "from databricks.sdk import WorkspaceClient\n",
    "\n",
    "w = WorkspaceClient()\n",
    "\n",
    "idx = w.vector_search_indexes.get_index(\n",
    "    index_name=f\"{catalog_name}.{schema_name}.{index_table_name}\",\n",
    ")\n",
    "print(idx.status.message)"
   ]
  },
  {
   "cell_type": "code",
   "execution_count": 0,
   "metadata": {
    "application/vnd.databricks.v1+cell": {
     "cellMetadata": {
      "byteLimit": 2048000,
      "rowLimit": 10000
     },
     "inputWidgets": {},
     "nuid": "fd486924-eded-4e2b-8a3b-48572737ccad",
     "showTitle": false,
     "tableResultSettingsMap": {},
     "title": ""
    }
   },
   "outputs": [],
   "source": [
    "# Mosaic AI Vector Search 利用時の関数を定義\n",
    "import os\n",
    "from openai import OpenAI\n",
    "\n",
    "\n",
    "def create_embedding(text):\n",
    "    token = (\n",
    "        dbutils.notebook.entry_point.getDbutils()\n",
    "        .notebook()\n",
    "        .getContext()\n",
    "        .apiToken()\n",
    "        .get()\n",
    "    )\n",
    "\n",
    "    # Databricks Workspace の URL をセット\n",
    "    ws_url = \"https://\"\n",
    "    ws_url += spark.conf.get(\"spark.databricks.workspaceUrl\")\n",
    "\n",
    "    client = OpenAI(\n",
    "        api_key=token,\n",
    "        base_url=f\"{ws_url}/serving-endpoints\",\n",
    "    )\n",
    "\n",
    "    embeddings = client.embeddings.create(\n",
    "        input=text,\n",
    "        model=\"databricks-bge-large-en\",\n",
    "    )\n",
    "\n",
    "    return embeddings.data[0].embedding"
   ]
  },
  {
   "cell_type": "code",
   "execution_count": 0,
   "metadata": {
    "application/vnd.databricks.v1+cell": {
     "cellMetadata": {
      "byteLimit": 2048000,
      "rowLimit": 10000
     },
     "inputWidgets": {},
     "nuid": "682daf4f-fbf3-493b-b34c-62ae32ee4654",
     "showTitle": false,
     "tableResultSettingsMap": {},
     "title": ""
    }
   },
   "outputs": [],
   "source": [
    "# Mosaic AI Vector Search から質問内容の回答を取得\n",
    "# \"error_code\":\"NOT_FOUND\" が発生した場合には少し待機してから再実行してください。\n",
    "query = \"Delta Lake ?\"\n",
    "index = client.get_index(index_name=f\"{catalog_name}.{schema_name}.{index_table_name}\")\n",
    "all_columns = spark.table(f\"{catalog_name}.{schema_name}.{curated_table_name}\").columns\n",
    "results = index.similarity_search(\n",
    "    query_vector=create_embedding(query), columns=all_columns, num_results=2\n",
    ")"
   ]
  },
  {
   "cell_type": "code",
   "execution_count": 0,
   "metadata": {
    "application/vnd.databricks.v1+cell": {
     "cellMetadata": {
      "byteLimit": 2048000,
      "rowLimit": 10000
     },
     "inputWidgets": {},
     "nuid": "4e9120ae-c576-40f7-afbf-110a8a752048",
     "showTitle": false,
     "tableResultSettingsMap": {},
     "title": ""
    }
   },
   "outputs": [],
   "source": [
    "import pprint\n",
    "\n",
    "pprint.pprint(results[\"result\"][\"data_array\"][0][:5])"
   ]
  },
  {
   "cell_type": "markdown",
   "metadata": {
    "application/vnd.databricks.v1+cell": {
     "cellMetadata": {
      "byteLimit": 2048000,
      "rowLimit": 10000
     },
     "inputWidgets": {},
     "nuid": "a3e97eed-8746-4bc2-b846-7317024eeb34",
     "showTitle": false,
     "tableResultSettingsMap": {},
     "title": ""
    }
   },
   "source": [
    "## Faiss の構築"
   ]
  },
  {
   "cell_type": "code",
   "execution_count": 0,
   "metadata": {
    "application/vnd.databricks.v1+cell": {
     "cellMetadata": {
      "byteLimit": 2048000,
      "rowLimit": 10000
     },
     "inputWidgets": {},
     "nuid": "d8e0e96e-af5f-4cdc-a58e-741934ac8001",
     "showTitle": false,
     "tableResultSettingsMap": {},
     "title": ""
    }
   },
   "outputs": [],
   "source": [
    "# データを取得\n",
    "embedding_col = \"embedding\"\n",
    "content_col = \"slide_content\"\n",
    "src_faiss_df = spark.table(f\"{catalog_name}.{schema_name}.{curated_table_name}\")\n",
    "src_faiss_df = src_faiss_df.select(embedding_col, content_col)\n",
    "src_faiss_df.display()"
   ]
  },
  {
   "cell_type": "code",
   "execution_count": 0,
   "metadata": {
    "application/vnd.databricks.v1+cell": {
     "cellMetadata": {
      "byteLimit": 2048000,
      "rowLimit": 10000
     },
     "inputWidgets": {},
     "nuid": "a50d5af4-403d-48cd-9e4b-0f47e5552fc1",
     "showTitle": false,
     "tableResultSettingsMap": {},
     "title": ""
    }
   },
   "outputs": [],
   "source": [
    "# Index の作成\n",
    "import faiss\n",
    "import numpy as np\n",
    "import pandas as pd\n",
    "\n",
    "# Pandasに変換\n",
    "pdf = src_faiss_df.toPandas()\n",
    "\n",
    "# ベクトルとテキストを抽出\n",
    "embeddings = np.array(pdf[embedding_col].tolist()).astype(\"float32\")\n",
    "contents = pdf[content_col].tolist()\n",
    "\n",
    "# ベクトルの次元数を取得\n",
    "dimension = embeddings.shape[1]\n",
    "\n",
    "# インデックス作成（L2距離）\n",
    "index = faiss.IndexFlatL2(dimension)\n",
    "\n",
    "# ベクトルを追加\n",
    "index.add(embeddings)"
   ]
  },
  {
   "cell_type": "code",
   "execution_count": 0,
   "metadata": {
    "application/vnd.databricks.v1+cell": {
     "cellMetadata": {
      "byteLimit": 2048000,
      "rowLimit": 10000
     },
     "inputWidgets": {},
     "nuid": "332f98d2-21a8-4096-b28e-0066cc966d70",
     "showTitle": false,
     "tableResultSettingsMap": {},
     "title": ""
    }
   },
   "outputs": [],
   "source": [
    "# Faiss の利用\n",
    "query = \"Delta Lake ?\"\n",
    "k = 2\n",
    "query_vector = np.array(\n",
    "    create_embedding(query),\n",
    "    dtype=\"float32\",\n",
    ").reshape(1, -1)\n",
    "distances, indices = index.search(query_vector, k)\n",
    "results = []\n",
    "for i, idx in enumerate(indices[0]):\n",
    "    results.append(contents[idx])"
   ]
  },
  {
   "cell_type": "code",
   "execution_count": 0,
   "metadata": {
    "application/vnd.databricks.v1+cell": {
     "cellMetadata": {
      "byteLimit": 2048000,
      "rowLimit": 10000
     },
     "inputWidgets": {},
     "nuid": "bfe8f572-4f07-44e2-b273-716924672775",
     "showTitle": false,
     "tableResultSettingsMap": {},
     "title": ""
    }
   },
   "outputs": [],
   "source": [
    "print(results[0])"
   ]
  },
  {
   "cell_type": "code",
   "execution_count": 0,
   "metadata": {
    "application/vnd.databricks.v1+cell": {
     "cellMetadata": {
      "byteLimit": 2048000,
      "rowLimit": 10000
     },
     "inputWidgets": {},
     "nuid": "d8446a5a-811d-4f1e-affd-4a124f5853e1",
     "showTitle": false,
     "tableResultSettingsMap": {},
     "title": ""
    }
   },
   "outputs": [],
   "source": [
    "# end"
   ]
  }
 ],
 "metadata": {
  "application/vnd.databricks.v1+notebook": {
   "computePreferences": {
    "hardware": {
     "accelerator": null,
     "gpuPoolId": null,
     "memory": null
    }
   },
   "dashboards": [],
   "environmentMetadata": {
    "base_environment": "",
    "environment_version": "4"
   },
   "inputWidgetPreferences": null,
   "language": "python",
   "notebookMetadata": {
    "mostRecentlyExecutedCommandWithImplicitDF": {
     "commandId": 5596243350156081,
     "dataframes": [
      "_sqldf"
     ]
    },
    "pythonIndentUnit": 4
   },
   "notebookName": "03_knowledge_store",
   "widgets": {}
  },
  "language_info": {
   "name": "python"
  }
 },
 "nbformat": 4,
 "nbformat_minor": 0
}
