{
 "cells": [
  {
   "cell_type": "code",
   "execution_count": 0,
   "metadata": {
    "application/vnd.databricks.v1+cell": {
     "cellMetadata": {
      "byteLimit": 2048000,
      "rowLimit": 10000
     },
     "inputWidgets": {},
     "nuid": "dd43f94d-039a-4d22-b64d-20e4f70b6048",
     "showTitle": false,
     "tableResultSettingsMap": {},
     "title": ""
    }
   },
   "outputs": [],
   "source": [
    "# ToDo カタログ名とスキーマ名を変更してください。\n",
    "catalog_name = \"unstructured_data_medalion_demo\"\n",
    "schema_name = \"schema_01\"\n",
    "\n",
    "# ToDo Vector Search 名を変更してください。\n",
    "# Databricks Free Edition では 1 つしか作成できないことに注意\n",
    "vector_search_name = \"vector_search_01\""
   ]
  },
  {
   "cell_type": "code",
   "execution_count": 0,
   "metadata": {
    "application/vnd.databricks.v1+cell": {
     "cellMetadata": {
      "byteLimit": 2048000,
      "rowLimit": 10000
     },
     "inputWidgets": {},
     "nuid": "33f5f1ee-a3db-496b-9a11-123c7e1bcfaa",
     "showTitle": false,
     "tableResultSettingsMap": {},
     "title": ""
    }
   },
   "outputs": [],
   "source": [
    "# Volume 名をセット\n",
    "volume_name = \"volume_01\"\n",
    "\n",
    "# テーブル名をセット\n",
    "file_context_input_table_name = \"file_context_input_01\"\n",
    "file_info_table_name = \"file_info_01\"\n",
    "file_context_error_table_name = \"file_context_error_01\"\n",
    "file_context_output_table_name = \"file_context_output_01\"\n",
    "enriched_table_name = \"enriched_table_name\"\n",
    "curated_table_name = \"curated_table_name\"\n",
    "index_table_name = \"vectore_endpoint_index\"\n",
    "\n",
    "# Datbricks Apps 名をセット\n",
    "app_name = \"unstructured-medalion-demo\""
   ]
  },
  {
   "cell_type": "code",
   "execution_count": 0,
   "metadata": {
    "application/vnd.databricks.v1+cell": {
     "cellMetadata": {
      "byteLimit": 2048000,
      "rowLimit": 10000
     },
     "inputWidgets": {},
     "nuid": "cfe62bce-d009-487d-876a-6b6d61ecf146",
     "showTitle": false,
     "tableResultSettingsMap": {},
     "title": ""
    }
   },
   "outputs": [],
   "source": [
    "volume_dir = f\"/Volumes/{catalog_name}/{schema_name}/{volume_name}\"\n",
    "source_dir = f\"{volume_dir}/source_data\"\n",
    "py_volume_dir = f\"/Volumes/{catalog_name}/{schema_name}/{volume_name}\"\n",
    "py_source_dir = f\"{py_volume_dir}/source_data\""
   ]
  }
 ],
 "metadata": {
  "application/vnd.databricks.v1+notebook": {
   "computePreferences": null,
   "dashboards": [],
   "environmentMetadata": {
    "base_environment": "",
    "environment_version": "4"
   },
   "inputWidgetPreferences": null,
   "language": "python",
   "notebookMetadata": {
    "pythonIndentUnit": 4
   },
   "notebookName": "00_config",
   "widgets": {}
  },
  "language_info": {
   "name": "python"
  }
 },
 "nbformat": 4,
 "nbformat_minor": 0
}
